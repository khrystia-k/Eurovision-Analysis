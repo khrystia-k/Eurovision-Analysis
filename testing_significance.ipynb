{
 "cells": [
  {
   "cell_type": "code",
   "execution_count": 22,
   "metadata": {},
   "outputs": [],
   "source": [
    "import pandas as pd\n",
    "import statsmodels.api as sm\n",
    "from scipy.stats import chi2"
   ]
  },
  {
   "cell_type": "code",
   "execution_count": 12,
   "metadata": {},
   "outputs": [],
   "source": [
    "df = pd.read_csv(\"preprocessed_data.csv\") \n"
   ]
  },
  {
   "cell_type": "code",
   "execution_count": 13,
   "metadata": {},
   "outputs": [
    {
     "data": {
      "text/plain": [
       "Index(['song_name', 'artist_name', 'danceability', 'energy', 'key', 'loudness',\n",
       "       'mode', 'speechiness', 'acousticness', 'instrumentalness', 'liveness',\n",
       "       'valence', 'tempo', 'year', 'country', 'language', 'style', 'gender',\n",
       "       'main_singers', 'backing_dancers', 'backing_singers',\n",
       "       'backing_instruments', 'semi_place', 'eng_lan', 'inc_eng_lan', 'Male',\n",
       "       'Female', 'Pop', 'Rock', 'Ballad', 'Traditional', 'Dance', 'is_final'],\n",
       "      dtype='object')"
      ]
     },
     "execution_count": 13,
     "metadata": {},
     "output_type": "execute_result"
    }
   ],
   "source": [
    "df.columns"
   ]
  },
  {
   "cell_type": "markdown",
   "metadata": {},
   "source": [
    "## Check significance of all countries"
   ]
  },
  {
   "cell_type": "code",
   "execution_count": 14,
   "metadata": {},
   "outputs": [],
   "source": [
    "dummy_countries = pd.get_dummies(df['country'], prefix='country')\n",
    "# Convert boolean values to integers (0/1)\n",
    "dummy_countries = dummy_countries.astype(int)\n",
    "df = pd.concat([df, dummy_countries], axis=1)"
   ]
  },
  {
   "cell_type": "code",
   "execution_count": 18,
   "metadata": {},
   "outputs": [
    {
     "name": "stdout",
     "output_type": "stream",
     "text": [
      "Warning: Maximum number of iterations has been exceeded.\n",
      "         Current function value: 0.540639\n",
      "         Iterations: 35\n",
      "                           Logit Regression Results                           \n",
      "==============================================================================\n",
      "Dep. Variable:               is_final   No. Observations:                  483\n",
      "Model:                          Logit   Df Residuals:                      416\n",
      "Method:                           MLE   Df Model:                           66\n",
      "Date:                Sat, 27 Apr 2024   Pseudo R-squ.:                  0.2062\n",
      "Time:                        17:53:20   Log-Likelihood:                -261.13\n",
      "converged:                      False   LL-Null:                       -328.94\n",
      "Covariance Type:            nonrobust   LLR p-value:                 9.957e-07\n",
      "==================================================================================================\n",
      "                                     coef    std err          z      P>|z|      [0.025      0.975]\n",
      "--------------------------------------------------------------------------------------------------\n",
      "const                             36.8110   7.25e+06   5.07e-06      1.000   -1.42e+07    1.42e+07\n",
      "danceability                       0.4017      0.921      0.436      0.663      -1.403       2.206\n",
      "energy                            -1.1328      0.971     -1.167      0.243      -3.035       0.770\n",
      "key                                0.0020      0.032      0.062      0.951      -0.061       0.065\n",
      "loudness                           0.0598      0.047      1.261      0.207      -0.033       0.153\n",
      "mode                              -0.1238      0.242     -0.511      0.609      -0.599       0.351\n",
      "speechiness                       -0.3334      1.552     -0.215      0.830      -3.376       2.709\n",
      "acousticness                       0.1544      0.574      0.269      0.788      -0.971       1.280\n",
      "instrumentalness                   0.2592      0.521      0.497      0.619      -0.763       1.281\n",
      "liveness                          -0.4345      0.895     -0.486      0.627      -2.188       1.319\n",
      "valence                           -0.9738      0.593     -1.642      0.101      -2.136       0.188\n",
      "tempo                             -0.0014      0.004     -0.346      0.729      -0.010       0.007\n",
      "Pop                              -35.1697   7.25e+06  -4.85e-06      1.000   -1.42e+07    1.42e+07\n",
      "Rock                             -34.7889   7.25e+06   -4.8e-06      1.000   -1.42e+07    1.42e+07\n",
      "Ballad                           -34.6651   7.25e+06  -4.78e-06      1.000   -1.42e+07    1.42e+07\n",
      "Traditional                      -33.9467   7.25e+06  -4.68e-06      1.000   -1.42e+07    1.42e+07\n",
      "Dance                            -34.4109   7.25e+06  -4.74e-06      1.000   -1.42e+07    1.42e+07\n",
      "main_singers                      -0.0085      0.149     -0.057      0.955      -0.301       0.284\n",
      "backing_dancers                    0.2174      0.099      2.195      0.028       0.023       0.412\n",
      "backing_singers                    0.0128      0.076      0.170      0.865      -0.135       0.161\n",
      "backing_instruments                0.1103      0.108      1.024      0.306      -0.101       0.321\n",
      "eng_lan                            0.2996      0.336      0.892      0.372      -0.359       0.958\n",
      "inc_eng_lan                       -0.2406      0.480     -0.501      0.617      -1.182       0.701\n",
      "country_Albania                   -0.1412      1.374     -0.103      0.918      -2.834       2.552\n",
      "country_Andorra                  -20.0992    3.7e+04     -0.001      1.000   -7.25e+04    7.25e+04\n",
      "country_Armenia                    0.9027      1.417      0.637      0.524      -1.875       3.680\n",
      "country_Australia                  0.7813      1.688      0.463      0.643      -2.527       4.089\n",
      "country_Austria                   -0.5196      1.389     -0.374      0.708      -3.241       2.202\n",
      "country_Azerbaijan                 1.1504      1.480      0.777      0.437      -1.751       4.052\n",
      "country_Belarus                   -0.9916      1.379     -0.719      0.472      -3.694       1.711\n",
      "country_Belgium                   -0.3191      1.373     -0.232      0.816      -3.011       2.373\n",
      "country_Bosnia and Herzegovina     0.7643      1.696      0.451      0.652      -2.559       4.088\n",
      "country_Bulgaria                  -0.9501      1.396     -0.680      0.496      -3.687       1.787\n",
      "country_Croatia                   -2.1426      1.492     -1.436      0.151      -5.066       0.781\n",
      "country_Cyprus                     0.1887      1.385      0.136      0.892      -2.526       2.903\n",
      "country_Czech Republic            -0.1625      1.452     -0.112      0.911      -3.008       2.684\n",
      "country_Denmark                    0.1878      1.360      0.138      0.890      -2.477       2.853\n",
      "country_Estonia                   -0.1906      1.378     -0.138      0.890      -2.891       2.510\n",
      "country_Finland                   -0.8791      1.338     -0.657      0.511      -3.502       1.744\n",
      "country_Georgia                   -1.2229      1.357     -0.901      0.368      -3.883       1.437\n",
      "country_Greece                     0.7836      1.416      0.554      0.580      -1.991       3.558\n",
      "country_Hungary                    0.7787      1.492      0.522      0.602      -2.145       3.703\n",
      "country_Iceland                   -0.0057      1.371     -0.004      0.997      -2.692       2.680\n",
      "country_Ireland                   -1.4323      1.349     -1.062      0.288      -4.076       1.211\n",
      "country_Israel                    -0.0147      1.376     -0.011      0.991      -2.712       2.682\n",
      "country_Latvia                    -2.3795      1.465     -1.624      0.104      -5.252       0.493\n",
      "country_Lithuania                  0.4311      1.385      0.311      0.756      -2.283       3.145\n",
      "country_Malta                     -0.4876      1.356     -0.360      0.719      -3.145       2.169\n",
      "country_Moldova                    0.0154      1.387      0.011      0.991      -2.703       2.734\n",
      "country_Montenegro                -2.0207      1.475     -1.370      0.171      -4.911       0.870\n",
      "country_Netherlands               -0.2503      1.390     -0.180      0.857      -2.975       2.475\n",
      "country_North Macedonia           -1.8204      1.407     -1.294      0.196      -4.578       0.937\n",
      "country_Norway                     0.7901      1.473      0.536      0.592      -2.097       3.678\n",
      "country_Poland                    -1.2072      1.397     -0.864      0.388      -3.946       1.531\n",
      "country_Portugal                  -0.3414      1.442     -0.237      0.813      -3.167       2.485\n",
      "country_Romania                    0.3048      1.391      0.219      0.827      -2.421       3.031\n",
      "country_Russia                     1.7892      1.662      1.076      0.282      -1.468       5.047\n",
      "country_San Marino                -1.9587      1.409     -1.390      0.164      -4.720       0.803\n",
      "country_Serbia                     1.5024      1.503      1.000      0.317      -1.443       4.448\n",
      "country_Slovakia                 -23.2496   2.81e+04     -0.001      0.999   -5.52e+04    5.51e+04\n",
      "country_Slovenia                  -1.1121      1.385     -0.803      0.422      -3.826       1.602\n",
      "country_Sweden                     1.7704      1.626      1.089      0.276      -1.416       4.956\n",
      "country_Switzerland               -1.0355      1.359     -0.762      0.446      -3.699       1.628\n",
      "country_The Netherlands          -22.1070    3.7e+04     -0.001      1.000   -7.25e+04    7.25e+04\n",
      "country_Ukraine                   24.2893   8.35e+04      0.000      1.000   -1.64e+05    1.64e+05\n",
      "Male                               0.0454      0.488      0.093      0.926      -0.911       1.002\n",
      "Female                            -0.2364      0.488     -0.485      0.628      -1.193       0.720\n",
      "==================================================================================================\n"
     ]
    },
    {
     "name": "stderr",
     "output_type": "stream",
     "text": [
      "/Users/khrystyna/.pyenv/versions/3.10.14/lib/python3.10/site-packages/statsmodels/base/model.py:607: ConvergenceWarning: Maximum Likelihood optimization failed to converge. Check mle_retvals\n",
      "  warnings.warn(\"Maximum Likelihood optimization failed to \"\n"
     ]
    }
   ],
   "source": [
    "X = df[['danceability', 'energy', 'key', 'loudness', 'mode', 'speechiness',\n",
    "        'acousticness', 'instrumentalness', 'liveness', 'valence', 'tempo',\n",
    "        'Pop', 'Rock', 'Ballad', 'Traditional', 'Dance',\n",
    "        'main_singers', 'backing_dancers', 'backing_singers','backing_instruments',\n",
    "        'eng_lan', 'inc_eng_lan',\n",
    "        'country_Albania', 'country_Andorra',\n",
    "       'country_Armenia', 'country_Australia', 'country_Austria',\n",
    "       'country_Azerbaijan', 'country_Belarus', 'country_Belgium',\n",
    "       'country_Bosnia and Herzegovina', 'country_Bulgaria', 'country_Croatia',\n",
    "       'country_Cyprus', 'country_Czech Republic', 'country_Denmark',\n",
    "       'country_Estonia', 'country_Finland', \n",
    "       'country_Georgia',  'country_Greece',\n",
    "       'country_Hungary', 'country_Iceland', 'country_Ireland',\n",
    "       'country_Israel',  'country_Latvia',\n",
    "       'country_Lithuania', 'country_Malta', 'country_Moldova',\n",
    "       'country_Montenegro', 'country_Netherlands', 'country_North Macedonia',\n",
    "       'country_Norway', 'country_Poland', 'country_Portugal',\n",
    "       'country_Romania', 'country_Russia', 'country_San Marino',\n",
    "       'country_Serbia', 'country_Slovakia', 'country_Slovenia',\n",
    "        'country_Sweden', 'country_Switzerland',\n",
    "       'country_The Netherlands', 'country_Ukraine',\n",
    "        'Male', 'Female']]\n",
    "y = df['is_final']\n",
    "\n",
    "\n",
    "X = sm.add_constant(X)\n",
    "ur_model = sm.Logit(y, X)\n",
    "ur_model = ur_model.fit()\n",
    "\n",
    "print(ur_model.summary())"
   ]
  },
  {
   "cell_type": "code",
   "execution_count": 19,
   "metadata": {},
   "outputs": [
    {
     "name": "stdout",
     "output_type": "stream",
     "text": [
      "Warning: Maximum number of iterations has been exceeded.\n",
      "         Current function value: 0.649603\n",
      "         Iterations: 35\n",
      "                           Logit Regression Results                           \n",
      "==============================================================================\n",
      "Dep. Variable:               is_final   No. Observations:                  483\n",
      "Model:                          Logit   Df Residuals:                      458\n",
      "Method:                           MLE   Df Model:                           24\n",
      "Date:                Sat, 27 Apr 2024   Pseudo R-squ.:                 0.04616\n",
      "Time:                        17:53:56   Log-Likelihood:                -313.76\n",
      "converged:                      False   LL-Null:                       -328.94\n",
      "Covariance Type:            nonrobust   LLR p-value:                    0.1728\n",
      "=======================================================================================\n",
      "                          coef    std err          z      P>|z|      [0.025      0.975]\n",
      "---------------------------------------------------------------------------------------\n",
      "const                  24.2172   1.11e+05      0.000      1.000   -2.18e+05    2.18e+05\n",
      "danceability            0.4219      0.778      0.542      0.588      -1.103       1.947\n",
      "energy                  0.0744      0.808      0.092      0.927      -1.509       1.657\n",
      "key                     0.0158      0.028      0.574      0.566      -0.038       0.070\n",
      "loudness                0.0368      0.040      0.913      0.361      -0.042       0.116\n",
      "mode                   -0.0234      0.206     -0.113      0.910      -0.428       0.381\n",
      "speechiness            -0.0013      1.321     -0.001      0.999      -2.591       2.588\n",
      "acousticness            0.2028      0.479      0.423      0.672      -0.737       1.142\n",
      "instrumentalness        0.2419      0.451      0.537      0.591      -0.641       1.125\n",
      "liveness                0.0099      0.767      0.013      0.990      -1.493       1.513\n",
      "valence                -1.1259      0.505     -2.230      0.026      -2.115      -0.136\n",
      "tempo                   0.0015      0.004      0.432      0.666      -0.005       0.009\n",
      "Pop                   -24.5292   1.11e+05     -0.000      1.000   -2.18e+05    2.18e+05\n",
      "Rock                  -24.5896   1.11e+05     -0.000      1.000   -2.18e+05    2.18e+05\n",
      "Ballad                -24.2254   1.11e+05     -0.000      1.000   -2.18e+05    2.18e+05\n",
      "Traditional           -23.6078   1.11e+05     -0.000      1.000   -2.18e+05    2.18e+05\n",
      "Dance                 -23.8768   1.11e+05     -0.000      1.000   -2.18e+05    2.18e+05\n",
      "main_singers           -0.0135      0.129     -0.105      0.917      -0.266       0.239\n",
      "backing_dancers         0.1859      0.081      2.300      0.021       0.028       0.344\n",
      "backing_singers        -0.0182      0.064     -0.284      0.777      -0.144       0.108\n",
      "backing_instruments     0.0358      0.088      0.408      0.683      -0.136       0.208\n",
      "eng_lan                 0.3312      0.266      1.246      0.213      -0.190       0.852\n",
      "inc_eng_lan            -0.0795      0.396     -0.201      0.841      -0.856       0.697\n",
      "Male                    0.4147      0.408      1.015      0.310      -0.386       1.215\n",
      "Female                  0.1250      0.402      0.311      0.756      -0.664       0.914\n",
      "=======================================================================================\n"
     ]
    },
    {
     "name": "stderr",
     "output_type": "stream",
     "text": [
      "/Users/khrystyna/.pyenv/versions/3.10.14/lib/python3.10/site-packages/statsmodels/base/model.py:607: ConvergenceWarning: Maximum Likelihood optimization failed to converge. Check mle_retvals\n",
      "  warnings.warn(\"Maximum Likelihood optimization failed to \"\n"
     ]
    }
   ],
   "source": [
    "X = df[['danceability', 'energy', 'key', 'loudness', 'mode', 'speechiness',\n",
    "        'acousticness', 'instrumentalness', 'liveness', 'valence', 'tempo',\n",
    "        'Pop', 'Rock', 'Ballad', 'Traditional', 'Dance',\n",
    "        'main_singers', 'backing_dancers', 'backing_singers','backing_instruments',\n",
    "        'eng_lan', 'inc_eng_lan',\n",
    "\n",
    "        'Male', 'Female']]\n",
    "y = df['is_final']\n",
    "\n",
    "\n",
    "X = sm.add_constant(X)\n",
    "r_model = sm.Logit(y, X)\n",
    "r_model = r_model.fit()\n",
    "\n",
    "print(r_model.summary())"
   ]
  },
  {
   "cell_type": "code",
   "execution_count": 21,
   "metadata": {},
   "outputs": [
    {
     "data": {
      "text/plain": [
       "105.25999999999999"
      ]
     },
     "execution_count": 21,
     "metadata": {},
     "output_type": "execute_result"
    }
   ],
   "source": [
    "LR = 2*(-261.13 + 313.76)\n",
    "LR"
   ]
  },
  {
   "cell_type": "code",
   "execution_count": 26,
   "metadata": {},
   "outputs": [],
   "source": [
    "degrees_freedom = len(ur_model.params) - len(r_model.params)\n",
    "chi2_stat = chi2.ppf(0.95, degrees_freedom)"
   ]
  },
  {
   "cell_type": "code",
   "execution_count": 28,
   "metadata": {},
   "outputs": [
    {
     "name": "stdout",
     "output_type": "stream",
     "text": [
      "Peject null hypothesis\n"
     ]
    }
   ],
   "source": [
    "if LR > chi2_stat:\n",
    "  print(\"Peject null hypothesis\")\n",
    "else:\n",
    "  print(\"Do not reject null hypothesis\")"
   ]
  },
  {
   "cell_type": "markdown",
   "metadata": {},
   "source": [
    "Countries are significant."
   ]
  },
  {
   "cell_type": "markdown",
   "metadata": {},
   "source": [
    "## Check significance of years"
   ]
  },
  {
   "cell_type": "code",
   "execution_count": 29,
   "metadata": {},
   "outputs": [],
   "source": [
    "dummy_years = pd.get_dummies(df['year'])\n",
    "# Convert boolean values to integers (0/1)\n",
    "dummy_years = dummy_years.astype(int)\n",
    "df = pd.concat([df, dummy_years], axis=1)"
   ]
  },
  {
   "cell_type": "code",
   "execution_count": 30,
   "metadata": {},
   "outputs": [
    {
     "name": "stdout",
     "output_type": "stream",
     "text": [
      "Warning: Maximum number of iterations has been exceeded.\n",
      "         Current function value: 0.646131\n",
      "         Iterations: 35\n",
      "                           Logit Regression Results                           \n",
      "==============================================================================\n",
      "Dep. Variable:               is_final   No. Observations:                  483\n",
      "Model:                          Logit   Df Residuals:                      446\n",
      "Method:                           MLE   Df Model:                           36\n",
      "Date:                Sat, 27 Apr 2024   Pseudo R-squ.:                 0.05126\n",
      "Time:                        17:59:51   Log-Likelihood:                -312.08\n",
      "converged:                      False   LL-Null:                       -328.94\n",
      "Covariance Type:            nonrobust   LLR p-value:                    0.5773\n",
      "=======================================================================================\n",
      "                          coef    std err          z      P>|z|      [0.025      0.975]\n",
      "---------------------------------------------------------------------------------------\n",
      "const                  20.2315   1.14e+04      0.002      0.999   -2.23e+04    2.23e+04\n",
      "danceability            0.4134      0.799      0.518      0.605      -1.152       1.979\n",
      "energy                  0.0083      0.827      0.010      0.992      -1.612       1.628\n",
      "key                     0.0146      0.028      0.518      0.605      -0.041       0.070\n",
      "loudness                0.0366      0.041      0.886      0.375      -0.044       0.118\n",
      "mode                   -0.0083      0.211     -0.039      0.969      -0.423       0.406\n",
      "speechiness             0.1176      1.336      0.088      0.930      -2.500       2.735\n",
      "acousticness            0.1538      0.486      0.317      0.751      -0.798       1.106\n",
      "instrumentalness        0.1957      0.457      0.428      0.669      -0.700       1.092\n",
      "liveness               -0.0433      0.777     -0.056      0.956      -1.566       1.480\n",
      "valence                -1.0886      0.507     -2.146      0.032      -2.083      -0.095\n",
      "tempo                   0.0019      0.004      0.529      0.597      -0.005       0.009\n",
      "main_singers           -0.0299      0.117     -0.254      0.799      -0.260       0.200\n",
      "backing_dancers         0.2117      0.087      2.445      0.014       0.042       0.381\n",
      "backing_singers        -0.0239      0.073     -0.329      0.742      -0.166       0.118\n",
      "backing_instruments     0.0526      0.093      0.566      0.571      -0.130       0.235\n",
      "eng_lan                 0.3040      0.275      1.105      0.269      -0.235       0.843\n",
      "inc_eng_lan            -0.0451      0.408     -0.110      0.912      -0.845       0.755\n",
      "Male                    0.2958      0.209      1.413      0.158      -0.114       0.706\n",
      "2009                   -0.5751      0.547     -1.052      0.293      -1.647       0.497\n",
      "2010                   -0.1688      0.552     -0.306      0.760      -1.250       0.913\n",
      "2011                   -0.3543      0.536     -0.661      0.509      -1.405       0.696\n",
      "2012                   -0.4799      0.557     -0.862      0.389      -1.572       0.612\n",
      "2013                   -0.1733      0.560     -0.309      0.757      -1.271       0.924\n",
      "2014                   -0.0929      0.559     -0.166      0.868      -1.189       1.003\n",
      "2015                    0.0268      0.553      0.048      0.961      -1.058       1.112\n",
      "2016                   -0.1331      0.532     -0.250      0.802      -1.176       0.910\n",
      "2017                   -0.2906      0.538     -0.540      0.589      -1.344       0.763\n",
      "2018                   -0.4953      0.526     -0.941      0.347      -1.527       0.537\n",
      "2019                   -0.4653      0.538     -0.864      0.387      -1.520       0.590\n",
      "2021                   -0.4127      0.553     -0.747      0.455      -1.496       0.671\n",
      "2022                   -0.4292      0.534     -0.804      0.421      -1.475       0.617\n",
      "Pop                   -20.1621   1.14e+04     -0.002      0.999   -2.23e+04    2.23e+04\n",
      "Rock                  -20.1936   1.14e+04     -0.002      0.999   -2.23e+04    2.23e+04\n",
      "Ballad                -19.8039   1.14e+04     -0.002      0.999   -2.23e+04    2.23e+04\n",
      "Traditional           -19.1992   1.14e+04     -0.002      0.999   -2.23e+04    2.23e+04\n",
      "Dance                 -19.4091   1.14e+04     -0.002      0.999   -2.23e+04    2.23e+04\n",
      "=======================================================================================\n"
     ]
    },
    {
     "name": "stderr",
     "output_type": "stream",
     "text": [
      "/Users/khrystyna/.pyenv/versions/3.10.14/lib/python3.10/site-packages/statsmodels/base/model.py:607: ConvergenceWarning: Maximum Likelihood optimization failed to converge. Check mle_retvals\n",
      "  warnings.warn(\"Maximum Likelihood optimization failed to \"\n"
     ]
    }
   ],
   "source": [
    "X = df[['danceability', 'energy', 'key', 'loudness', 'mode', 'speechiness',\n",
    "        'acousticness', 'instrumentalness', 'liveness', 'valence', 'tempo',\n",
    "        'main_singers', 'backing_dancers', 'backing_singers','backing_instruments',\n",
    "        'eng_lan', 'inc_eng_lan',\n",
    "        'Male', 'Female',  2009,  2010, 2011,2012,\n",
    "                          2013,                    2014,\n",
    "                          2015,                    2016,\n",
    "                          2017,                    2018,\n",
    "                          2019,                    2021,\n",
    "                          2022,\n",
    "        'Pop', 'Rock', 'Ballad', 'Traditional', \n",
    "        ]]\n",
    "y = df['is_final']\n",
    "\n",
    "\n",
    "X = sm.add_constant(X)\n",
    "ur_model = sm.Logit(y, X)\n",
    "ur_model = ur_model.fit()\n",
    "\n",
    "print(ur_model.summary())"
   ]
  },
  {
   "cell_type": "code",
   "execution_count": 31,
   "metadata": {},
   "outputs": [
    {
     "name": "stdout",
     "output_type": "stream",
     "text": [
      "Warning: Maximum number of iterations has been exceeded.\n",
      "         Current function value: 0.649703\n",
      "         Iterations: 35\n",
      "                           Logit Regression Results                           \n",
      "==============================================================================\n",
      "Dep. Variable:               is_final   No. Observations:                  483\n",
      "Model:                          Logit   Df Residuals:                      459\n",
      "Method:                           MLE   Df Model:                           23\n",
      "Date:                Sat, 27 Apr 2024   Pseudo R-squ.:                 0.04602\n",
      "Time:                        18:00:27   Log-Likelihood:                -313.81\n",
      "converged:                      False   LL-Null:                       -328.94\n",
      "Covariance Type:            nonrobust   LLR p-value:                    0.1417\n",
      "=======================================================================================\n",
      "                          coef    std err          z      P>|z|      [0.025      0.975]\n",
      "---------------------------------------------------------------------------------------\n",
      "const                  24.2140   1.04e+05      0.000      1.000   -2.03e+05    2.03e+05\n",
      "danceability            0.4120      0.777      0.530      0.596      -1.111       1.935\n",
      "energy                  0.0675      0.807      0.084      0.933      -1.514       1.649\n",
      "key                     0.0158      0.028      0.573      0.567      -0.038       0.070\n",
      "loudness                0.0363      0.040      0.899      0.368      -0.043       0.115\n",
      "mode                   -0.0243      0.206     -0.118      0.906      -0.428       0.380\n",
      "speechiness             0.0197      1.319      0.015      0.988      -2.566       2.606\n",
      "acousticness            0.1950      0.479      0.407      0.684      -0.743       1.133\n",
      "instrumentalness        0.2326      0.450      0.517      0.605      -0.649       1.114\n",
      "liveness                0.0165      0.767      0.022      0.983      -1.487       1.520\n",
      "valence                -1.1102      0.502     -2.211      0.027      -2.094      -0.126\n",
      "tempo                   0.0015      0.004      0.434      0.665      -0.005       0.009\n",
      "main_singers           -0.0325      0.113     -0.286      0.775      -0.255       0.190\n",
      "backing_dancers         0.1855      0.081      2.296      0.022       0.027       0.344\n",
      "backing_singers        -0.0182      0.064     -0.283      0.777      -0.144       0.108\n",
      "backing_instruments     0.0346      0.088      0.395      0.693      -0.137       0.206\n",
      "eng_lan                 0.3311      0.266      1.245      0.213      -0.190       0.852\n",
      "inc_eng_lan            -0.0647      0.393     -0.165      0.869      -0.836       0.706\n",
      "Male                    0.3055      0.207      1.473      0.141      -0.101       0.712\n",
      "Pop                   -24.3952   1.04e+05     -0.000      1.000   -2.03e+05    2.03e+05\n",
      "Rock                  -24.4528   1.04e+05     -0.000      1.000   -2.03e+05    2.03e+05\n",
      "Ballad                -24.0919   1.04e+05     -0.000      1.000   -2.03e+05    2.03e+05\n",
      "Traditional           -23.4801   1.04e+05     -0.000      1.000   -2.03e+05    2.03e+05\n",
      "Dance                 -23.7436   1.04e+05     -0.000      1.000   -2.03e+05    2.03e+05\n",
      "=======================================================================================\n"
     ]
    },
    {
     "name": "stderr",
     "output_type": "stream",
     "text": [
      "/Users/khrystyna/.pyenv/versions/3.10.14/lib/python3.10/site-packages/statsmodels/base/model.py:607: ConvergenceWarning: Maximum Likelihood optimization failed to converge. Check mle_retvals\n",
      "  warnings.warn(\"Maximum Likelihood optimization failed to \"\n"
     ]
    }
   ],
   "source": [
    "X = df[['danceability', 'energy', 'key', 'loudness', 'mode', 'speechiness',\n",
    "        'acousticness', 'instrumentalness', 'liveness', 'valence', 'tempo',\n",
    "        'main_singers', 'backing_dancers', 'backing_singers','backing_instruments',\n",
    "        'eng_lan', 'inc_eng_lan',\n",
    "        'Male', 'Female',\n",
    "        'Pop', 'Rock', 'Ballad', 'Traditional'\n",
    "        ]]\n",
    "y = df['is_final']\n",
    "\n",
    "\n",
    "X = sm.add_constant(X)\n",
    "r_model = sm.Logit(y, X)\n",
    "r_model = r_model.fit()\n",
    "\n",
    "print(r_model.summary())"
   ]
  },
  {
   "cell_type": "code",
   "execution_count": 32,
   "metadata": {},
   "outputs": [
    {
     "data": {
      "text/plain": [
       "3.4600000000000364"
      ]
     },
     "execution_count": 32,
     "metadata": {},
     "output_type": "execute_result"
    }
   ],
   "source": [
    "LR_ur = -312.08\n",
    "LR_r =  -313.81\n",
    "\n",
    "LR = 2 * (LR_ur - LR_r)\n",
    "LR"
   ]
  },
  {
   "cell_type": "code",
   "execution_count": 33,
   "metadata": {},
   "outputs": [],
   "source": [
    "q = len(ur_model.params) - len(r_model.params)\n",
    "chi2_stat = chi2.ppf(0.95, q)"
   ]
  },
  {
   "cell_type": "code",
   "execution_count": 34,
   "metadata": {},
   "outputs": [
    {
     "name": "stdout",
     "output_type": "stream",
     "text": [
      "Do not reject null hypothesis\n"
     ]
    }
   ],
   "source": [
    "if LR > chi2_stat:\n",
    "  print(\"Peject null hypothesis\")\n",
    "else:\n",
    "  print(\"Do not reject null hypothesis\")"
   ]
  },
  {
   "cell_type": "markdown",
   "metadata": {},
   "source": [
    "Years are not significant."
   ]
  },
  {
   "cell_type": "markdown",
   "metadata": {},
   "source": [
    "## Testing genders"
   ]
  },
  {
   "cell_type": "code",
   "execution_count": 36,
   "metadata": {},
   "outputs": [
    {
     "name": "stdout",
     "output_type": "stream",
     "text": [
      "Optimization terminated successfully.\n",
      "         Current function value: 0.652287\n",
      "         Iterations 5\n",
      "                           Logit Regression Results                           \n",
      "==============================================================================\n",
      "Dep. Variable:               is_final   No. Observations:                  483\n",
      "Model:                          Logit   Df Residuals:                      459\n",
      "Method:                           MLE   Df Model:                           23\n",
      "Date:                Sat, 27 Apr 2024   Pseudo R-squ.:                 0.04222\n",
      "Time:                        18:06:43   Log-Likelihood:                -315.05\n",
      "converged:                       True   LL-Null:                       -328.94\n",
      "Covariance Type:            nonrobust   LLR p-value:                    0.2243\n",
      "=======================================================================================\n",
      "                          coef    std err          z      P>|z|      [0.025      0.975]\n",
      "---------------------------------------------------------------------------------------\n",
      "const                   0.5520      1.219      0.453      0.651      -1.837       2.942\n",
      "danceability            0.3170      0.773      0.410      0.682      -1.198       1.832\n",
      "energy                  0.0552      0.808      0.068      0.946      -1.529       1.639\n",
      "key                     0.0149      0.027      0.543      0.587      -0.039       0.069\n",
      "loudness                0.0324      0.040      0.807      0.420      -0.046       0.111\n",
      "mode                   -0.0195      0.205     -0.095      0.924      -0.422       0.383\n",
      "speechiness             0.0267      1.321      0.020      0.984      -2.562       2.616\n",
      "acousticness            0.1509      0.476      0.317      0.751      -0.782       1.084\n",
      "instrumentalness        0.2678      0.451      0.594      0.552      -0.616       1.151\n",
      "liveness               -0.0524      0.765     -0.068      0.945      -1.552       1.448\n",
      "valence                -1.1356      0.505     -2.250      0.024      -2.125      -0.147\n",
      "tempo                   0.0016      0.004      0.446      0.656      -0.005       0.008\n",
      "main_singers           -0.0217      0.129     -0.168      0.866      -0.274       0.231\n",
      "backing_dancers         0.1806      0.081      2.239      0.025       0.023       0.339\n",
      "backing_singers        -0.0207      0.064     -0.323      0.747      -0.146       0.105\n",
      "backing_instruments     0.0309      0.088      0.353      0.724      -0.141       0.203\n",
      "eng_lan                 0.2937      0.264      1.114      0.265      -0.223       0.810\n",
      "inc_eng_lan            -0.0763      0.392     -0.194      0.846      -0.845       0.693\n",
      "Male                    0.4238      0.409      1.036      0.300      -0.378       1.226\n",
      "Female                  0.1302      0.403      0.323      0.747      -0.659       0.920\n",
      "Pop                    -0.7553      0.341     -2.217      0.027      -1.423      -0.088\n",
      "Rock                   -0.8156      0.504     -1.618      0.106      -1.804       0.173\n",
      "Ballad                 -0.4654      0.380     -1.225      0.221      -1.210       0.279\n",
      "Traditional             0.1545      0.497      0.311      0.756      -0.820       1.129\n",
      "=======================================================================================\n"
     ]
    }
   ],
   "source": [
    "X = df[['danceability', 'energy', 'key', 'loudness', 'mode', 'speechiness',\n",
    "        'acousticness', 'instrumentalness', 'liveness', 'valence', 'tempo',\n",
    "        'main_singers', 'backing_dancers', 'backing_singers','backing_instruments',\n",
    "        'eng_lan', 'inc_eng_lan',\n",
    "        'Male',  'Female',\n",
    "        'Pop', 'Rock', 'Ballad', 'Traditional'\n",
    "        ]]\n",
    "y = df['is_final']\n",
    "\n",
    "\n",
    "X = sm.add_constant(X)\n",
    "ur_model = sm.Logit(y, X)\n",
    "ur_model = ur_model.fit()\n",
    "\n",
    "print(ur_model.summary())"
   ]
  },
  {
   "cell_type": "code",
   "execution_count": 37,
   "metadata": {},
   "outputs": [
    {
     "name": "stdout",
     "output_type": "stream",
     "text": [
      "Optimization terminated successfully.\n",
      "         Current function value: 0.654727\n",
      "         Iterations 5\n",
      "                           Logit Regression Results                           \n",
      "==============================================================================\n",
      "Dep. Variable:               is_final   No. Observations:                  483\n",
      "Model:                          Logit   Df Residuals:                      461\n",
      "Method:                           MLE   Df Model:                           21\n",
      "Date:                Sat, 27 Apr 2024   Pseudo R-squ.:                 0.03864\n",
      "Time:                        18:06:46   Log-Likelihood:                -316.23\n",
      "converged:                       True   LL-Null:                       -328.94\n",
      "Covariance Type:            nonrobust   LLR p-value:                    0.2294\n",
      "=======================================================================================\n",
      "                          coef    std err          z      P>|z|      [0.025      0.975]\n",
      "---------------------------------------------------------------------------------------\n",
      "const                   0.8687      1.136      0.765      0.444      -1.358       3.095\n",
      "danceability            0.3503      0.770      0.455      0.649      -1.159       1.860\n",
      "energy                 -0.0560      0.803     -0.070      0.944      -1.629       1.517\n",
      "key                     0.0149      0.027      0.543      0.587      -0.039       0.069\n",
      "loudness                0.0329      0.040      0.823      0.410      -0.045       0.111\n",
      "mode                   -0.0691      0.202     -0.341      0.733      -0.466       0.327\n",
      "speechiness            -0.0132      1.318     -0.010      0.992      -2.596       2.570\n",
      "acousticness            0.1277      0.474      0.270      0.788      -0.801       1.057\n",
      "instrumentalness        0.1947      0.446      0.436      0.663      -0.680       1.070\n",
      "liveness                0.0126      0.765      0.016      0.987      -1.486       1.512\n",
      "valence                -1.0857      0.500     -2.171      0.030      -2.066      -0.105\n",
      "tempo                   0.0017      0.003      0.486      0.627      -0.005       0.009\n",
      "main_singers           -0.0569      0.112     -0.506      0.613      -0.277       0.164\n",
      "backing_dancers         0.1779      0.081      2.210      0.027       0.020       0.336\n",
      "backing_singers        -0.0272      0.064     -0.426      0.670      -0.152       0.098\n",
      "backing_instruments     0.0441      0.087      0.509      0.611      -0.126       0.214\n",
      "eng_lan                 0.3052      0.263      1.160      0.246      -0.211       0.821\n",
      "inc_eng_lan            -0.0570      0.389     -0.147      0.883      -0.820       0.706\n",
      "Pop                    -0.7501      0.340     -2.208      0.027      -1.416      -0.084\n",
      "Rock                   -0.7274      0.499     -1.458      0.145      -1.705       0.251\n",
      "Ballad                 -0.4773      0.379     -1.259      0.208      -1.220       0.266\n",
      "Traditional             0.1830      0.496      0.369      0.712      -0.789       1.155\n",
      "=======================================================================================\n"
     ]
    }
   ],
   "source": [
    "X = df[['danceability', 'energy', 'key', 'loudness', 'mode', 'speechiness',\n",
    "        'acousticness', 'instrumentalness', 'liveness', 'valence', 'tempo',\n",
    "        'main_singers', 'backing_dancers', 'backing_singers','backing_instruments',\n",
    "        'eng_lan', 'inc_eng_lan',\n",
    "       \n",
    "        'Pop', 'Rock', 'Ballad', 'Traditional'\n",
    "        ]]\n",
    "y = df['is_final']\n",
    "\n",
    "\n",
    "X = sm.add_constant(X)\n",
    "r_model = sm.Logit(y, X)\n",
    "r_model = r_model.fit()\n",
    "\n",
    "print(r_model.summary())"
   ]
  },
  {
   "cell_type": "code",
   "execution_count": 38,
   "metadata": {},
   "outputs": [
    {
     "name": "stdout",
     "output_type": "stream",
     "text": [
      "Do not reject null hypothesis\n"
     ]
    }
   ],
   "source": [
    "LR_ur = -315.05\n",
    "LR_r =   -316.23\n",
    "\n",
    "LR = 2 * (LR_ur - LR_r)\n",
    "\n",
    "q = len(ur_model.params) - len(r_model.params)\n",
    "chi2_stat = chi2.ppf(0.95, q)\n",
    "\n",
    "if LR > chi2_stat:\n",
    "  print(\"Peject null hypothesis\")\n",
    "else:\n",
    "  print(\"Do not reject null hypothesis\")"
   ]
  },
  {
   "cell_type": "markdown",
   "metadata": {},
   "source": [
    "Years are not significant"
   ]
  },
  {
   "cell_type": "markdown",
   "metadata": {},
   "source": [
    "## Testing styles"
   ]
  },
  {
   "cell_type": "code",
   "execution_count": 39,
   "metadata": {},
   "outputs": [
    {
     "name": "stdout",
     "output_type": "stream",
     "text": [
      "Optimization terminated successfully.\n",
      "         Current function value: 0.652287\n",
      "         Iterations 5\n",
      "                           Logit Regression Results                           \n",
      "==============================================================================\n",
      "Dep. Variable:               is_final   No. Observations:                  483\n",
      "Model:                          Logit   Df Residuals:                      459\n",
      "Method:                           MLE   Df Model:                           23\n",
      "Date:                Sat, 27 Apr 2024   Pseudo R-squ.:                 0.04222\n",
      "Time:                        18:08:16   Log-Likelihood:                -315.05\n",
      "converged:                       True   LL-Null:                       -328.94\n",
      "Covariance Type:            nonrobust   LLR p-value:                    0.2243\n",
      "=======================================================================================\n",
      "                          coef    std err          z      P>|z|      [0.025      0.975]\n",
      "---------------------------------------------------------------------------------------\n",
      "const                   0.5520      1.219      0.453      0.651      -1.837       2.942\n",
      "danceability            0.3170      0.773      0.410      0.682      -1.198       1.832\n",
      "energy                  0.0552      0.808      0.068      0.946      -1.529       1.639\n",
      "key                     0.0149      0.027      0.543      0.587      -0.039       0.069\n",
      "loudness                0.0324      0.040      0.807      0.420      -0.046       0.111\n",
      "mode                   -0.0195      0.205     -0.095      0.924      -0.422       0.383\n",
      "speechiness             0.0267      1.321      0.020      0.984      -2.562       2.616\n",
      "acousticness            0.1509      0.476      0.317      0.751      -0.782       1.084\n",
      "instrumentalness        0.2678      0.451      0.594      0.552      -0.616       1.151\n",
      "liveness               -0.0524      0.765     -0.068      0.945      -1.552       1.448\n",
      "valence                -1.1356      0.505     -2.250      0.024      -2.125      -0.147\n",
      "tempo                   0.0016      0.004      0.446      0.656      -0.005       0.008\n",
      "main_singers           -0.0217      0.129     -0.168      0.866      -0.274       0.231\n",
      "backing_dancers         0.1806      0.081      2.239      0.025       0.023       0.339\n",
      "backing_singers        -0.0207      0.064     -0.323      0.747      -0.146       0.105\n",
      "backing_instruments     0.0309      0.088      0.353      0.724      -0.141       0.203\n",
      "eng_lan                 0.2937      0.264      1.114      0.265      -0.223       0.810\n",
      "inc_eng_lan            -0.0763      0.392     -0.194      0.846      -0.845       0.693\n",
      "Male                    0.4238      0.409      1.036      0.300      -0.378       1.226\n",
      "Female                  0.1302      0.403      0.323      0.747      -0.659       0.920\n",
      "Pop                    -0.7553      0.341     -2.217      0.027      -1.423      -0.088\n",
      "Rock                   -0.8156      0.504     -1.618      0.106      -1.804       0.173\n",
      "Ballad                 -0.4654      0.380     -1.225      0.221      -1.210       0.279\n",
      "Traditional             0.1545      0.497      0.311      0.756      -0.820       1.129\n",
      "=======================================================================================\n"
     ]
    }
   ],
   "source": [
    "X = df[['danceability', 'energy', 'key', 'loudness', 'mode', 'speechiness',\n",
    "        'acousticness', 'instrumentalness', 'liveness', 'valence', 'tempo',\n",
    "        'main_singers', 'backing_dancers', 'backing_singers','backing_instruments',\n",
    "        'eng_lan', 'inc_eng_lan',\n",
    "        'Male',  'Female',\n",
    "        'Pop', 'Rock', 'Ballad', 'Traditional'\n",
    "        ]]\n",
    "y = df['is_final']\n",
    "\n",
    "\n",
    "X = sm.add_constant(X)\n",
    "ur_model = sm.Logit(y, X)\n",
    "ur_model = ur_model.fit()\n",
    "\n",
    "print(ur_model.summary())"
   ]
  },
  {
   "cell_type": "code",
   "execution_count": 40,
   "metadata": {},
   "outputs": [
    {
     "name": "stdout",
     "output_type": "stream",
     "text": [
      "Optimization terminated successfully.\n",
      "         Current function value: 0.662336\n",
      "         Iterations 5\n",
      "                           Logit Regression Results                           \n",
      "==============================================================================\n",
      "Dep. Variable:               is_final   No. Observations:                  483\n",
      "Model:                          Logit   Df Residuals:                      463\n",
      "Method:                           MLE   Df Model:                           19\n",
      "Date:                Sat, 27 Apr 2024   Pseudo R-squ.:                 0.02747\n",
      "Time:                        18:08:28   Log-Likelihood:                -319.91\n",
      "converged:                       True   LL-Null:                       -328.94\n",
      "Covariance Type:            nonrobust   LLR p-value:                    0.5178\n",
      "=======================================================================================\n",
      "                          coef    std err          z      P>|z|      [0.025      0.975]\n",
      "---------------------------------------------------------------------------------------\n",
      "const                   0.0130      1.098      0.012      0.991      -2.139       2.165\n",
      "danceability            0.2351      0.767      0.306      0.759      -1.269       1.739\n",
      "energy                  0.1499      0.783      0.192      0.848      -1.384       1.684\n",
      "key                     0.0143      0.027      0.526      0.599      -0.039       0.068\n",
      "loudness                0.0262      0.039      0.674      0.500      -0.050       0.102\n",
      "mode                    0.0044      0.203      0.022      0.983      -0.394       0.402\n",
      "speechiness             0.1424      1.309      0.109      0.913      -2.422       2.707\n",
      "acousticness            0.0961      0.469      0.205      0.838      -0.823       1.015\n",
      "instrumentalness        0.2631      0.444      0.592      0.554      -0.607       1.134\n",
      "liveness               -0.0060      0.759     -0.008      0.994      -1.494       1.483\n",
      "valence                -1.0948      0.499     -2.195      0.028      -2.072      -0.117\n",
      "tempo                   0.0021      0.003      0.598      0.550      -0.005       0.009\n",
      "main_singers           -0.0091      0.126     -0.072      0.943      -0.256       0.238\n",
      "backing_dancers         0.1974      0.078      2.538      0.011       0.045       0.350\n",
      "backing_singers        -0.0121      0.063     -0.192      0.848      -0.136       0.111\n",
      "backing_instruments     0.0174      0.074      0.236      0.813      -0.127       0.162\n",
      "eng_lan                 0.1215      0.246      0.494      0.621      -0.361       0.604\n",
      "inc_eng_lan            -0.1524      0.383     -0.398      0.691      -0.903       0.598\n",
      "Male                    0.3598      0.400      0.899      0.368      -0.424       1.144\n",
      "Female                  0.0718      0.396      0.182      0.856      -0.703       0.847\n",
      "=======================================================================================\n"
     ]
    }
   ],
   "source": [
    "X = df[['danceability', 'energy', 'key', 'loudness', 'mode', 'speechiness',\n",
    "        'acousticness', 'instrumentalness', 'liveness', 'valence', 'tempo',\n",
    "        'main_singers', 'backing_dancers', 'backing_singers','backing_instruments',\n",
    "        'eng_lan', 'inc_eng_lan',\n",
    "        'Male',  'Female',\n",
    "        ]]\n",
    "y = df['is_final']\n",
    "\n",
    "\n",
    "X = sm.add_constant(X)\n",
    "r_model = sm.Logit(y, X)\n",
    "r_model = r_model.fit()\n",
    "\n",
    "print(r_model.summary())"
   ]
  },
  {
   "cell_type": "code",
   "execution_count": 41,
   "metadata": {},
   "outputs": [
    {
     "name": "stdout",
     "output_type": "stream",
     "text": [
      "Peject null hypothesis\n"
     ]
    }
   ],
   "source": [
    "LR_ur =  -315.05\n",
    "LR_r =    -319.91\n",
    "\n",
    "LR = 2 * (LR_ur - LR_r)\n",
    "\n",
    "q = len(ur_model.params) - len(r_model.params)\n",
    "chi2_stat = chi2.ppf(0.95, q)\n",
    "\n",
    "if LR > chi2_stat:\n",
    "  print(\"Peject null hypothesis\")\n",
    "else:\n",
    "  print(\"Do not reject null hypothesis\")"
   ]
  },
  {
   "cell_type": "markdown",
   "metadata": {},
   "source": [
    "Styles are significant"
   ]
  }
 ],
 "metadata": {
  "kernelspec": {
   "display_name": "Python 3",
   "language": "python",
   "name": "python3"
  },
  "language_info": {
   "codemirror_mode": {
    "name": "ipython",
    "version": 3
   },
   "file_extension": ".py",
   "mimetype": "text/x-python",
   "name": "python",
   "nbconvert_exporter": "python",
   "pygments_lexer": "ipython3",
   "version": "3.10.14"
  }
 },
 "nbformat": 4,
 "nbformat_minor": 2
}
