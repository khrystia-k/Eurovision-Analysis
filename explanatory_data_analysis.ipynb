{
 "cells": [
  {
   "cell_type": "markdown",
   "metadata": {},
   "source": [
    "# EDA of our dataset"
   ]
  },
  {
   "cell_type": "code",
   "execution_count": 92,
   "metadata": {},
   "outputs": [],
   "source": [
    "import pandas as pd\n",
    "import matplotlib.pyplot as plt\n",
    "import seaborn as sns"
   ]
  },
  {
   "cell_type": "code",
   "execution_count": 93,
   "metadata": {},
   "outputs": [
    {
     "data": {
      "text/html": [
       "<div>\n",
       "<style scoped>\n",
       "    .dataframe tbody tr th:only-of-type {\n",
       "        vertical-align: middle;\n",
       "    }\n",
       "\n",
       "    .dataframe tbody tr th {\n",
       "        vertical-align: top;\n",
       "    }\n",
       "\n",
       "    .dataframe thead th {\n",
       "        text-align: right;\n",
       "    }\n",
       "</style>\n",
       "<table border=\"1\" class=\"dataframe\">\n",
       "  <thead>\n",
       "    <tr style=\"text-align: right;\">\n",
       "      <th></th>\n",
       "      <th>Unnamed: 0</th>\n",
       "      <th>song_name</th>\n",
       "      <th>artist_name</th>\n",
       "      <th>danceability</th>\n",
       "      <th>energy</th>\n",
       "      <th>key</th>\n",
       "      <th>loudness</th>\n",
       "      <th>mode</th>\n",
       "      <th>speechiness</th>\n",
       "      <th>acousticness</th>\n",
       "      <th>...</th>\n",
       "      <th>final_jury_votes</th>\n",
       "      <th>final_place</th>\n",
       "      <th>final_total_points</th>\n",
       "      <th>semi_place</th>\n",
       "      <th>semi_televote_points</th>\n",
       "      <th>semi_jury_points</th>\n",
       "      <th>semi_total_points</th>\n",
       "      <th>favourite_10</th>\n",
       "      <th>race</th>\n",
       "      <th>host_10</th>\n",
       "    </tr>\n",
       "  </thead>\n",
       "  <tbody>\n",
       "    <tr>\n",
       "      <th>0</th>\n",
       "      <td>0</td>\n",
       "      <td>Queen of Kings</td>\n",
       "      <td>Alessandra</td>\n",
       "      <td>0.563</td>\n",
       "      <td>0.908</td>\n",
       "      <td>4</td>\n",
       "      <td>-4.250</td>\n",
       "      <td>0</td>\n",
       "      <td>0.0868</td>\n",
       "      <td>0.06960</td>\n",
       "      <td>...</td>\n",
       "      <td>11.0</td>\n",
       "      <td>5.0</td>\n",
       "      <td>268.0</td>\n",
       "      <td>6.0</td>\n",
       "      <td>102.0</td>\n",
       "      <td>NaN</td>\n",
       "      <td>102.0</td>\n",
       "      <td>0</td>\n",
       "      <td>unknown</td>\n",
       "      <td>0</td>\n",
       "    </tr>\n",
       "    <tr>\n",
       "      <th>1</th>\n",
       "      <td>1</td>\n",
       "      <td>Dance (Our Own Party)</td>\n",
       "      <td>The Busker</td>\n",
       "      <td>0.695</td>\n",
       "      <td>0.778</td>\n",
       "      <td>5</td>\n",
       "      <td>-5.634</td>\n",
       "      <td>0</td>\n",
       "      <td>0.0407</td>\n",
       "      <td>0.02170</td>\n",
       "      <td>...</td>\n",
       "      <td>NaN</td>\n",
       "      <td>NaN</td>\n",
       "      <td>NaN</td>\n",
       "      <td>15.0</td>\n",
       "      <td>3.0</td>\n",
       "      <td>NaN</td>\n",
       "      <td>3.0</td>\n",
       "      <td>0</td>\n",
       "      <td>unknown</td>\n",
       "      <td>0</td>\n",
       "    </tr>\n",
       "    <tr>\n",
       "      <th>2</th>\n",
       "      <td>2</td>\n",
       "      <td>Samo mi se spava</td>\n",
       "      <td>Luke Black</td>\n",
       "      <td>0.551</td>\n",
       "      <td>0.730</td>\n",
       "      <td>9</td>\n",
       "      <td>-8.288</td>\n",
       "      <td>1</td>\n",
       "      <td>0.0575</td>\n",
       "      <td>0.00839</td>\n",
       "      <td>...</td>\n",
       "      <td>6.0</td>\n",
       "      <td>24.0</td>\n",
       "      <td>30.0</td>\n",
       "      <td>10.0</td>\n",
       "      <td>37.0</td>\n",
       "      <td>NaN</td>\n",
       "      <td>37.0</td>\n",
       "      <td>0</td>\n",
       "      <td>unknown</td>\n",
       "      <td>0</td>\n",
       "    </tr>\n",
       "    <tr>\n",
       "      <th>3</th>\n",
       "      <td>3</td>\n",
       "      <td>Aija</td>\n",
       "      <td>Sudden Lights</td>\n",
       "      <td>0.556</td>\n",
       "      <td>0.548</td>\n",
       "      <td>9</td>\n",
       "      <td>-7.513</td>\n",
       "      <td>0</td>\n",
       "      <td>0.0694</td>\n",
       "      <td>0.05230</td>\n",
       "      <td>...</td>\n",
       "      <td>NaN</td>\n",
       "      <td>NaN</td>\n",
       "      <td>NaN</td>\n",
       "      <td>11.0</td>\n",
       "      <td>34.0</td>\n",
       "      <td>NaN</td>\n",
       "      <td>34.0</td>\n",
       "      <td>0</td>\n",
       "      <td>unknown</td>\n",
       "      <td>0</td>\n",
       "    </tr>\n",
       "    <tr>\n",
       "      <th>4</th>\n",
       "      <td>4</td>\n",
       "      <td>Ai coraï¿½ï¿½o</td>\n",
       "      <td>Sergio Assad, Thomas Ford, Mario Castelnuovo-T...</td>\n",
       "      <td>0.354</td>\n",
       "      <td>0.333</td>\n",
       "      <td>9</td>\n",
       "      <td>-17.127</td>\n",
       "      <td>1</td>\n",
       "      <td>0.0302</td>\n",
       "      <td>0.95600</td>\n",
       "      <td>...</td>\n",
       "      <td>9.0</td>\n",
       "      <td>23.0</td>\n",
       "      <td>59.0</td>\n",
       "      <td>9.0</td>\n",
       "      <td>74.0</td>\n",
       "      <td>NaN</td>\n",
       "      <td>74.0</td>\n",
       "      <td>0</td>\n",
       "      <td>unknown</td>\n",
       "      <td>0</td>\n",
       "    </tr>\n",
       "    <tr>\n",
       "      <th>...</th>\n",
       "      <td>...</td>\n",
       "      <td>...</td>\n",
       "      <td>...</td>\n",
       "      <td>...</td>\n",
       "      <td>...</td>\n",
       "      <td>...</td>\n",
       "      <td>...</td>\n",
       "      <td>...</td>\n",
       "      <td>...</td>\n",
       "      <td>...</td>\n",
       "      <td>...</td>\n",
       "      <td>...</td>\n",
       "      <td>...</td>\n",
       "      <td>...</td>\n",
       "      <td>...</td>\n",
       "      <td>...</td>\n",
       "      <td>...</td>\n",
       "      <td>...</td>\n",
       "      <td>...</td>\n",
       "      <td>...</td>\n",
       "      <td>...</td>\n",
       "    </tr>\n",
       "    <tr>\n",
       "      <th>560</th>\n",
       "      <td>560</td>\n",
       "      <td>Et s'il fallait le faire</td>\n",
       "      <td>Patricia Kaas</td>\n",
       "      <td>0.259</td>\n",
       "      <td>0.581</td>\n",
       "      <td>9</td>\n",
       "      <td>-8.383</td>\n",
       "      <td>1</td>\n",
       "      <td>0.0848</td>\n",
       "      <td>0.55200</td>\n",
       "      <td>...</td>\n",
       "      <td>NaN</td>\n",
       "      <td>8.0</td>\n",
       "      <td>218.0</td>\n",
       "      <td>NaN</td>\n",
       "      <td>NaN</td>\n",
       "      <td>NaN</td>\n",
       "      <td>NaN</td>\n",
       "      <td>0</td>\n",
       "      <td>unknown</td>\n",
       "      <td>0</td>\n",
       "    </tr>\n",
       "    <tr>\n",
       "      <th>561</th>\n",
       "      <td>561</td>\n",
       "      <td>Mamo</td>\n",
       "      <td>Mamonas Assassinas</td>\n",
       "      <td>0.746</td>\n",
       "      <td>0.665</td>\n",
       "      <td>9</td>\n",
       "      <td>-10.154</td>\n",
       "      <td>1</td>\n",
       "      <td>0.1330</td>\n",
       "      <td>0.03470</td>\n",
       "      <td>...</td>\n",
       "      <td>NaN</td>\n",
       "      <td>11.0</td>\n",
       "      <td>185.0</td>\n",
       "      <td>NaN</td>\n",
       "      <td>NaN</td>\n",
       "      <td>NaN</td>\n",
       "      <td>NaN</td>\n",
       "      <td>0</td>\n",
       "      <td>unknown</td>\n",
       "      <td>1</td>\n",
       "    </tr>\n",
       "    <tr>\n",
       "      <th>562</th>\n",
       "      <td>562</td>\n",
       "      <td>Miss Kiss Kiss Bang</td>\n",
       "      <td>Alex Swings Oscar Sings!</td>\n",
       "      <td>0.624</td>\n",
       "      <td>0.889</td>\n",
       "      <td>10</td>\n",
       "      <td>-4.482</td>\n",
       "      <td>0</td>\n",
       "      <td>0.2120</td>\n",
       "      <td>0.10700</td>\n",
       "      <td>...</td>\n",
       "      <td>NaN</td>\n",
       "      <td>20.0</td>\n",
       "      <td>91.0</td>\n",
       "      <td>NaN</td>\n",
       "      <td>NaN</td>\n",
       "      <td>NaN</td>\n",
       "      <td>NaN</td>\n",
       "      <td>0</td>\n",
       "      <td>unknown</td>\n",
       "      <td>0</td>\n",
       "    </tr>\n",
       "    <tr>\n",
       "      <th>563</th>\n",
       "      <td>563</td>\n",
       "      <td>It's My Time</td>\n",
       "      <td>Mansur Brown</td>\n",
       "      <td>0.414</td>\n",
       "      <td>0.548</td>\n",
       "      <td>7</td>\n",
       "      <td>-8.836</td>\n",
       "      <td>1</td>\n",
       "      <td>0.0655</td>\n",
       "      <td>0.03960</td>\n",
       "      <td>...</td>\n",
       "      <td>NaN</td>\n",
       "      <td>5.0</td>\n",
       "      <td>328.0</td>\n",
       "      <td>NaN</td>\n",
       "      <td>NaN</td>\n",
       "      <td>NaN</td>\n",
       "      <td>NaN</td>\n",
       "      <td>0</td>\n",
       "      <td>unknown</td>\n",
       "      <td>0</td>\n",
       "    </tr>\n",
       "    <tr>\n",
       "      <th>564</th>\n",
       "      <td>564</td>\n",
       "      <td>La noche es para mi</td>\n",
       "      <td>Soraya</td>\n",
       "      <td>0.658</td>\n",
       "      <td>0.842</td>\n",
       "      <td>6</td>\n",
       "      <td>-4.604</td>\n",
       "      <td>0</td>\n",
       "      <td>0.0549</td>\n",
       "      <td>0.06040</td>\n",
       "      <td>...</td>\n",
       "      <td>NaN</td>\n",
       "      <td>24.0</td>\n",
       "      <td>47.0</td>\n",
       "      <td>NaN</td>\n",
       "      <td>NaN</td>\n",
       "      <td>NaN</td>\n",
       "      <td>NaN</td>\n",
       "      <td>0</td>\n",
       "      <td>unknown</td>\n",
       "      <td>0</td>\n",
       "    </tr>\n",
       "  </tbody>\n",
       "</table>\n",
       "<p>565 rows × 45 columns</p>\n",
       "</div>"
      ],
      "text/plain": [
       "     Unnamed: 0                 song_name  \\\n",
       "0             0            Queen of Kings   \n",
       "1             1     Dance (Our Own Party)   \n",
       "2             2          Samo mi se spava   \n",
       "3             3                      Aija   \n",
       "4             4            Ai coraï¿½ï¿½o   \n",
       "..          ...                       ...   \n",
       "560         560  Et s'il fallait le faire   \n",
       "561         561                      Mamo   \n",
       "562         562       Miss Kiss Kiss Bang   \n",
       "563         563              It's My Time   \n",
       "564         564       La noche es para mi   \n",
       "\n",
       "                                           artist_name  danceability  energy  \\\n",
       "0                                           Alessandra         0.563   0.908   \n",
       "1                                           The Busker         0.695   0.778   \n",
       "2                                           Luke Black         0.551   0.730   \n",
       "3                                        Sudden Lights         0.556   0.548   \n",
       "4    Sergio Assad, Thomas Ford, Mario Castelnuovo-T...         0.354   0.333   \n",
       "..                                                 ...           ...     ...   \n",
       "560                                      Patricia Kaas         0.259   0.581   \n",
       "561                                 Mamonas Assassinas         0.746   0.665   \n",
       "562                           Alex Swings Oscar Sings!         0.624   0.889   \n",
       "563                                       Mansur Brown         0.414   0.548   \n",
       "564                                             Soraya         0.658   0.842   \n",
       "\n",
       "     key  loudness  mode  speechiness  acousticness  ...  final_jury_votes  \\\n",
       "0      4    -4.250     0       0.0868       0.06960  ...              11.0   \n",
       "1      5    -5.634     0       0.0407       0.02170  ...               NaN   \n",
       "2      9    -8.288     1       0.0575       0.00839  ...               6.0   \n",
       "3      9    -7.513     0       0.0694       0.05230  ...               NaN   \n",
       "4      9   -17.127     1       0.0302       0.95600  ...               9.0   \n",
       "..   ...       ...   ...          ...           ...  ...               ...   \n",
       "560    9    -8.383     1       0.0848       0.55200  ...               NaN   \n",
       "561    9   -10.154     1       0.1330       0.03470  ...               NaN   \n",
       "562   10    -4.482     0       0.2120       0.10700  ...               NaN   \n",
       "563    7    -8.836     1       0.0655       0.03960  ...               NaN   \n",
       "564    6    -4.604     0       0.0549       0.06040  ...               NaN   \n",
       "\n",
       "     final_place  final_total_points  semi_place  semi_televote_points  \\\n",
       "0            5.0               268.0         6.0                 102.0   \n",
       "1            NaN                 NaN        15.0                   3.0   \n",
       "2           24.0                30.0        10.0                  37.0   \n",
       "3            NaN                 NaN        11.0                  34.0   \n",
       "4           23.0                59.0         9.0                  74.0   \n",
       "..           ...                 ...         ...                   ...   \n",
       "560          8.0               218.0         NaN                   NaN   \n",
       "561         11.0               185.0         NaN                   NaN   \n",
       "562         20.0                91.0         NaN                   NaN   \n",
       "563          5.0               328.0         NaN                   NaN   \n",
       "564         24.0                47.0         NaN                   NaN   \n",
       "\n",
       "    semi_jury_points semi_total_points favourite_10     race host_10  \n",
       "0                NaN             102.0            0  unknown       0  \n",
       "1                NaN               3.0            0  unknown       0  \n",
       "2                NaN              37.0            0  unknown       0  \n",
       "3                NaN              34.0            0  unknown       0  \n",
       "4                NaN              74.0            0  unknown       0  \n",
       "..               ...               ...          ...      ...     ...  \n",
       "560              NaN               NaN            0  unknown       0  \n",
       "561              NaN               NaN            0  unknown       1  \n",
       "562              NaN               NaN            0  unknown       0  \n",
       "563              NaN               NaN            0  unknown       0  \n",
       "564              NaN               NaN            0  unknown       0  \n",
       "\n",
       "[565 rows x 45 columns]"
      ]
     },
     "execution_count": 93,
     "metadata": {},
     "output_type": "execute_result"
    }
   ],
   "source": [
    "df = pd.read_csv(\"datasetresults.csv\") \n",
    "df"
   ]
  },
  {
   "cell_type": "code",
   "execution_count": 94,
   "metadata": {},
   "outputs": [
    {
     "data": {
      "text/plain": [
       "Index(['Unnamed: 0', 'song_name', 'artist_name', 'danceability', 'energy',\n",
       "       'key', 'loudness', 'mode', 'speechiness', 'acousticness',\n",
       "       'instrumentalness', 'liveness', 'valence', 'tempo', 'year',\n",
       "       'semi_final', 'semi_draw_position', 'final_draw_position', 'country',\n",
       "       'language', 'style', 'direct_qualifier_10', 'gender', 'main_singers',\n",
       "       'age', 'selection', 'key_change_10', 'backing_dancers',\n",
       "       'backing_singers', 'backing_instruments', 'instrument_10',\n",
       "       'qualified_10', 'final_televote_points', 'final_jury_points',\n",
       "       'final_televote_votes', 'final_jury_votes', 'final_place',\n",
       "       'final_total_points', 'semi_place', 'semi_televote_points',\n",
       "       'semi_jury_points', 'semi_total_points', 'favourite_10', 'race',\n",
       "       'host_10'],\n",
       "      dtype='object')"
      ]
     },
     "execution_count": 94,
     "metadata": {},
     "output_type": "execute_result"
    }
   ],
   "source": [
    "df.columns"
   ]
  },
  {
   "cell_type": "markdown",
   "metadata": {},
   "source": [
    "## Columns description"
   ]
  },
  {
   "cell_type": "markdown",
   "metadata": {},
   "source": [
    "### Characteristics from Spotify-API"
   ]
  },
  {
   "cell_type": "markdown",
   "metadata": {},
   "source": [
    "\n",
    "📀 `danceability:` A value of 0.0 is least danceable and 1.0 is most danceable\n",
    "\n",
    "📀 `energy:` Energy is a measure from 0.0 to 1.0 and represents a perceptual measure of intensity and activity.\n",
    "\n",
    "📀 `key:` The key the track is in. Integers map to pitches using standard Pitch Class notation. E.g. 0 = C, 1 = C♯/D♭, 2 = D, and so on. If no key was detected, the value is -1\n",
    "\n",
    "📀 `loudness:` The overall loudness of a track in decibels (dB)\n",
    "\n",
    "📀 `mode:` Mode indicates the modality (major or minor) of a track. Major is represented by 1 and minor is 0\n",
    "\n",
    "📀 `speechiness:` Speechiness detects the presence of spoken words in a track. The more exclusively speech-like the recording (e.g. talk show, audio book, poetry), the closer to 1.0 the attribute value. Values below 0.33 most likely represent music and other non-speech-like tracks\n",
    "\n",
    "\n",
    "\n",
    "📀 `acousticness`\n",
    "\n",
    "📀 `instrumentalness:` The closer the instrumentalness value is to 1.0, the greater likelihood the track contains no vocal content\n",
    "\n",
    "📀 `liveness:` Detects the presence of an audience in the recording. A value above 0.8 provides strong likelihood that the track is live\n",
    "\n",
    "📀 `valence:` A measure from 0.0 to 1.0 describing the musical positiveness conveyed by a track\n",
    "\n",
    "📀 `tempo:` The overall estimated tempo of a track in beats per minute (BPM)\n",
    "\n"
   ]
  },
  {
   "cell_type": "markdown",
   "metadata": {},
   "source": [
    "### Year"
   ]
  },
  {
   "cell_type": "markdown",
   "metadata": {},
   "source": [
    "`year`"
   ]
  },
  {
   "cell_type": "code",
   "execution_count": 95,
   "metadata": {},
   "outputs": [
    {
     "data": {
      "text/plain": [
       "year\n",
       "2023    37\n",
       "2022    40\n",
       "2021    39\n",
       "2019    41\n",
       "2018    43\n",
       "2017    42\n",
       "2016    42\n",
       "2015    39\n",
       "2014    37\n",
       "2013    39\n",
       "2012    42\n",
       "2011    43\n",
       "2010    39\n",
       "2009    42\n",
       "Name: count, dtype: int64"
      ]
     },
     "execution_count": 95,
     "metadata": {},
     "output_type": "execute_result"
    }
   ],
   "source": [
    "unique_values_counts = df['year'].value_counts()\n",
    "unique_values_counts.sort_index(ascending=False)\n"
   ]
  },
  {
   "cell_type": "markdown",
   "metadata": {},
   "source": [
    "### Draw positions"
   ]
  },
  {
   "cell_type": "markdown",
   "metadata": {},
   "source": [
    "`'semi_final', 'semi_draw_position', 'final_draw_position'` - characteristics of order "
   ]
  },
  {
   "cell_type": "code",
   "execution_count": 96,
   "metadata": {},
   "outputs": [
    {
     "data": {
      "text/plain": [
       "semi_final\n",
       "2    245\n",
       "1    240\n",
       "-     80\n",
       "Name: count, dtype: int64"
      ]
     },
     "execution_count": 96,
     "metadata": {},
     "output_type": "execute_result"
    }
   ],
   "source": [
    "df['semi_final'].value_counts()"
   ]
  },
  {
   "cell_type": "code",
   "execution_count": 97,
   "metadata": {},
   "outputs": [
    {
     "name": "stdout",
     "output_type": "stream",
     "text": [
      "semi_draw_position\n",
      "1     28\n",
      "2     28\n",
      "3     28\n",
      "4     28\n",
      "5     28\n",
      "6     28\n",
      "7     28\n",
      "8     28\n",
      "9     28\n",
      "10    28\n",
      "11    28\n",
      "12    28\n",
      "13    28\n",
      "14    28\n",
      "15    28\n",
      "16    26\n",
      "17    21\n",
      "18    14\n",
      "19     4\n",
      "-     80\n",
      "Name: count, dtype: int64\n"
     ]
    }
   ],
   "source": [
    "sorted_df = df['semi_draw_position'].value_counts().sort_index(key=lambda x: pd.to_numeric(x, errors='coerce'))\n",
    "print(sorted_df)\n",
    "\n"
   ]
  },
  {
   "cell_type": "code",
   "execution_count": 98,
   "metadata": {},
   "outputs": [
    {
     "name": "stdout",
     "output_type": "stream",
     "text": [
      "final_draw_position\n",
      "1      14\n",
      "2      14\n",
      "3      14\n",
      "4      14\n",
      "5      14\n",
      "6      14\n",
      "7      14\n",
      "8      14\n",
      "9      14\n",
      "10     14\n",
      "11     14\n",
      "12     12\n",
      "13     14\n",
      "14     14\n",
      "15     14\n",
      "16     14\n",
      "17     14\n",
      "18     14\n",
      "19     14\n",
      "20     14\n",
      "21     14\n",
      "22     14\n",
      "23     14\n",
      "24     14\n",
      "25     14\n",
      "26      9\n",
      "27      1\n",
      "-     196\n",
      "Name: count, dtype: int64\n"
     ]
    }
   ],
   "source": [
    "sorted_df = df['final_draw_position'].value_counts().sort_index(key=lambda x: pd.to_numeric(x, errors='coerce'))\n",
    "print(sorted_df)"
   ]
  },
  {
   "cell_type": "markdown",
   "metadata": {},
   "source": [
    "### Country, language, style"
   ]
  },
  {
   "cell_type": "markdown",
   "metadata": {},
   "source": [
    " `'country'`"
   ]
  },
  {
   "cell_type": "code",
   "execution_count": 99,
   "metadata": {},
   "outputs": [
    {
     "data": {
      "text/plain": [
       "48"
      ]
     },
     "execution_count": 99,
     "metadata": {},
     "output_type": "execute_result"
    }
   ],
   "source": [
    "df['country'].nunique()"
   ]
  },
  {
   "cell_type": "code",
   "execution_count": 100,
   "metadata": {},
   "outputs": [
    {
     "data": {
      "text/plain": [
       "country\n",
       "Norway                    14\n",
       "Finland                   14\n",
       "United Kingdom            14\n",
       "Germany                   14\n",
       "Spain                     14\n",
       "France                    14\n",
       "Lithuania                 14\n",
       "Albania                   14\n",
       "Malta                     14\n",
       "Greece                    14\n",
       "Iceland                   14\n",
       "Belgium                   14\n",
       "Estonia                   14\n",
       "Denmark                   14\n",
       "Slovenia                  14\n",
       "Ireland                   14\n",
       "Sweden                    14\n",
       "Latvia                    14\n",
       "Israel                    14\n",
       "Moldova                   14\n",
       "Switzerland               14\n",
       "Azerbaijan                14\n",
       "Cyprus                    13\n",
       "North Macedonia           13\n",
       "Netherlands               13\n",
       "Georgia                   13\n",
       "Serbia                    13\n",
       "Romania                   13\n",
       "Ukraine                   12\n",
       "Italy                     12\n",
       "Portugal                  12\n",
       "Armenia                   12\n",
       "Croatia                   12\n",
       "Austria                   12\n",
       "San Marino                12\n",
       "Poland                    12\n",
       "Belarus                   11\n",
       "Russia                    11\n",
       "Hungary                   10\n",
       "Bulgaria                  10\n",
       "Montenegro                10\n",
       "Czech Republic             9\n",
       "Australia                  7\n",
       "Bosnia and Herzegovina     5\n",
       "Slovakia                   4\n",
       "Turkey                     4\n",
       "The Netherlands            1\n",
       "Andorra                    1\n",
       "Name: count, dtype: int64"
      ]
     },
     "execution_count": 100,
     "metadata": {},
     "output_type": "execute_result"
    }
   ],
   "source": [
    "df['country'].value_counts()\n"
   ]
  },
  {
   "cell_type": "markdown",
   "metadata": {},
   "source": [
    "`'language'`"
   ]
  },
  {
   "cell_type": "code",
   "execution_count": 101,
   "metadata": {},
   "outputs": [
    {
     "data": {
      "text/plain": [
       "76"
      ]
     },
     "execution_count": 101,
     "metadata": {},
     "output_type": "execute_result"
    }
   ],
   "source": [
    "df['language'].nunique()"
   ]
  },
  {
   "cell_type": "code",
   "execution_count": 102,
   "metadata": {},
   "outputs": [
    {
     "name": "stdout",
     "output_type": "stream",
     "text": [
      "language\n",
      "English                 383\n",
      "French                   11\n",
      "Portuguese               10\n",
      "Italian                  10\n",
      "Spanish                   9\n",
      "                       ... \n",
      "Italian[f]                1\n",
      "English,ï¿½Greek3         1\n",
      "English,ï¿½Bulgarian      1\n",
      "Serbian,ï¿½Latin          1\n",
      "Russian,ï¿½Ukrainian      1\n",
      "Name: count, Length: 76, dtype: int64\n"
     ]
    }
   ],
   "source": [
    "k =(df['language'].value_counts())\n",
    "print(k)"
   ]
  },
  {
   "cell_type": "markdown",
   "metadata": {},
   "source": [
    "`style`"
   ]
  },
  {
   "cell_type": "code",
   "execution_count": 103,
   "metadata": {},
   "outputs": [
    {
     "data": {
      "text/plain": [
       "6"
      ]
     },
     "execution_count": 103,
     "metadata": {},
     "output_type": "execute_result"
    }
   ],
   "source": [
    "df['style'].nunique()"
   ]
  },
  {
   "cell_type": "code",
   "execution_count": 104,
   "metadata": {},
   "outputs": [
    {
     "data": {
      "text/plain": [
       "style\n",
       "Pop            271\n",
       "Ballad         148\n",
       "Dance           55\n",
       "Rock            47\n",
       "Traditional     41\n",
       "Opera            3\n",
       "Name: count, dtype: int64"
      ]
     },
     "execution_count": 104,
     "metadata": {},
     "output_type": "execute_result"
    }
   ],
   "source": [
    "df['style'].value_counts()"
   ]
  },
  {
   "cell_type": "markdown",
   "metadata": {},
   "source": [
    "### Direct qualifier 10 (?)"
   ]
  },
  {
   "cell_type": "markdown",
   "metadata": {},
   "source": [
    "`'direct_qualifier_10'`"
   ]
  },
  {
   "cell_type": "code",
   "execution_count": 105,
   "metadata": {},
   "outputs": [
    {
     "data": {
      "text/plain": [
       "direct_qualifier_10\n",
       "0    276\n",
       "-    209\n",
       "1     80\n",
       "Name: count, dtype: int64"
      ]
     },
     "execution_count": 105,
     "metadata": {},
     "output_type": "execute_result"
    }
   ],
   "source": [
    "df['direct_qualifier_10'].value_counts()"
   ]
  },
  {
   "cell_type": "markdown",
   "metadata": {},
   "source": [
    "### Gender, age"
   ]
  },
  {
   "cell_type": "markdown",
   "metadata": {},
   "source": [
    "`gender`"
   ]
  },
  {
   "cell_type": "code",
   "execution_count": 106,
   "metadata": {},
   "outputs": [
    {
     "data": {
      "text/plain": [
       "gender\n",
       "Female    274\n",
       "Male      244\n",
       "Mix        47\n",
       "Name: count, dtype: int64"
      ]
     },
     "execution_count": 106,
     "metadata": {},
     "output_type": "execute_result"
    }
   ],
   "source": [
    "df['gender'].value_counts()"
   ]
  },
  {
   "cell_type": "code",
   "execution_count": 107,
   "metadata": {},
   "outputs": [
    {
     "data": {
      "text/plain": [
       "count        565\n",
       "unique         3\n",
       "top       Female\n",
       "freq         274\n",
       "Name: gender, dtype: object"
      ]
     },
     "execution_count": 107,
     "metadata": {},
     "output_type": "execute_result"
    }
   ],
   "source": [
    "df['gender'].describe()"
   ]
  },
  {
   "cell_type": "markdown",
   "metadata": {},
   "source": [
    "`'age'`"
   ]
  },
  {
   "cell_type": "code",
   "execution_count": 108,
   "metadata": {},
   "outputs": [
    {
     "data": {
      "text/plain": [
       "age\n",
       "unknown    565\n",
       "Name: count, dtype: int64"
      ]
     },
     "execution_count": 108,
     "metadata": {},
     "output_type": "execute_result"
    }
   ],
   "source": [
    "df['age'].value_counts()"
   ]
  },
  {
   "cell_type": "markdown",
   "metadata": {},
   "source": [
    "### Main singers"
   ]
  },
  {
   "cell_type": "markdown",
   "metadata": {},
   "source": [
    "`'main_singers'`"
   ]
  },
  {
   "cell_type": "code",
   "execution_count": 109,
   "metadata": {},
   "outputs": [
    {
     "data": {
      "text/plain": [
       "main_singers\n",
       "1    473\n",
       "2     57\n",
       "3     15\n",
       "6      9\n",
       "4      8\n",
       "5      3\n",
       "Name: count, dtype: int64"
      ]
     },
     "execution_count": 109,
     "metadata": {},
     "output_type": "execute_result"
    }
   ],
   "source": [
    "df['main_singers'].value_counts()"
   ]
  },
  {
   "cell_type": "markdown",
   "metadata": {},
   "source": [
    "### Selection, key change 10 (to be deleted)"
   ]
  },
  {
   "cell_type": "markdown",
   "metadata": {},
   "source": [
    "`selection`"
   ]
  },
  {
   "cell_type": "code",
   "execution_count": 110,
   "metadata": {},
   "outputs": [
    {
     "data": {
      "text/plain": [
       "selection\n",
       "unknown    565\n",
       "Name: count, dtype: int64"
      ]
     },
     "execution_count": 110,
     "metadata": {},
     "output_type": "execute_result"
    }
   ],
   "source": [
    "df['selection'].value_counts()"
   ]
  },
  {
   "cell_type": "markdown",
   "metadata": {},
   "source": [
    "` 'key_change_10'`"
   ]
  },
  {
   "cell_type": "code",
   "execution_count": 111,
   "metadata": {},
   "outputs": [
    {
     "data": {
      "text/plain": [
       "key_change_10\n",
       "unknown    565\n",
       "Name: count, dtype: int64"
      ]
     },
     "execution_count": 111,
     "metadata": {},
     "output_type": "execute_result"
    }
   ],
   "source": [
    "df['key_change_10'].value_counts()"
   ]
  },
  {
   "cell_type": "markdown",
   "metadata": {},
   "source": [
    "### Backing staff"
   ]
  },
  {
   "cell_type": "markdown",
   "metadata": {},
   "source": [
    "`'backing_dancers'`"
   ]
  },
  {
   "cell_type": "code",
   "execution_count": 112,
   "metadata": {},
   "outputs": [
    {
     "data": {
      "text/plain": [
       "backing_dancers\n",
       "0    378\n",
       "4     50\n",
       "2     47\n",
       "1     45\n",
       "3     32\n",
       "5     13\n",
       "Name: count, dtype: int64"
      ]
     },
     "execution_count": 112,
     "metadata": {},
     "output_type": "execute_result"
    }
   ],
   "source": [
    "df['backing_dancers'].value_counts()"
   ]
  },
  {
   "cell_type": "markdown",
   "metadata": {},
   "source": [
    "`'backing_singers'`"
   ]
  },
  {
   "cell_type": "code",
   "execution_count": 113,
   "metadata": {},
   "outputs": [
    {
     "data": {
      "text/plain": [
       "backing_singers\n",
       "0    362\n",
       "3     56\n",
       "4     49\n",
       "2     49\n",
       "5     26\n",
       "1     23\n",
       "Name: count, dtype: int64"
      ]
     },
     "execution_count": 113,
     "metadata": {},
     "output_type": "execute_result"
    }
   ],
   "source": [
    "df['backing_singers'].value_counts()"
   ]
  },
  {
   "cell_type": "markdown",
   "metadata": {},
   "source": [
    "`'backing_instruments'`"
   ]
  },
  {
   "cell_type": "code",
   "execution_count": 114,
   "metadata": {},
   "outputs": [
    {
     "data": {
      "text/plain": [
       "backing_instruments\n",
       "0    386\n",
       "1     54\n",
       "3     35\n",
       "2     34\n",
       "4     34\n",
       "5     22\n",
       "Name: count, dtype: int64"
      ]
     },
     "execution_count": 114,
     "metadata": {},
     "output_type": "execute_result"
    }
   ],
   "source": [
    "df['backing_instruments'].value_counts()"
   ]
  },
  {
   "cell_type": "markdown",
   "metadata": {},
   "source": [
    "### Instruments 10, qualified 10 (?)"
   ]
  },
  {
   "cell_type": "markdown",
   "metadata": {},
   "source": [
    "`'instrument_10`"
   ]
  },
  {
   "cell_type": "code",
   "execution_count": 115,
   "metadata": {},
   "outputs": [
    {
     "data": {
      "text/plain": [
       "instrument_10\n",
       "0    498\n",
       "1     67\n",
       "Name: count, dtype: int64"
      ]
     },
     "execution_count": 115,
     "metadata": {},
     "output_type": "execute_result"
    }
   ],
   "source": [
    "df['instrument_10'].value_counts()"
   ]
  },
  {
   "cell_type": "markdown",
   "metadata": {},
   "source": [
    "`'qualified_10'`"
   ]
  },
  {
   "cell_type": "code",
   "execution_count": 116,
   "metadata": {},
   "outputs": [
    {
     "data": {
      "text/plain": [
       "qualified_10\n",
       "1    279\n",
       "0    206\n",
       "-     80\n",
       "Name: count, dtype: int64"
      ]
     },
     "execution_count": 116,
     "metadata": {},
     "output_type": "execute_result"
    }
   ],
   "source": [
    "df['qualified_10'].value_counts()"
   ]
  },
  {
   "cell_type": "markdown",
   "metadata": {},
   "source": [
    "### Final Points"
   ]
  },
  {
   "cell_type": "markdown",
   "metadata": {},
   "source": [
    "`'final_televote_points'`"
   ]
  },
  {
   "cell_type": "code",
   "execution_count": 117,
   "metadata": {},
   "outputs": [
    {
     "name": "stdout",
     "output_type": "stream",
     "text": [
      "final_televote_points\n",
      "0.0      9\n",
      "2.0      4\n",
      "3.0      4\n",
      "4.0      1\n",
      "5.0      6\n",
      "        ..\n",
      "353.0    1\n",
      "361.0    1\n",
      "376.0    2\n",
      "378.0    1\n",
      "439.0    1\n",
      "Name: count, Length: 172, dtype: int64\n"
     ]
    }
   ],
   "source": [
    "sorted_counts = df['final_televote_points'].value_counts().sort_index()\n",
    "print(sorted_counts)\n"
   ]
  },
  {
   "cell_type": "code",
   "execution_count": 118,
   "metadata": {},
   "outputs": [
    {
     "name": "stdout",
     "output_type": "stream",
     "text": [
      "[216.  nan  16. 112.  31. 185.  76. 243.  35. 376.  53.  22.  55.  58.\n",
      "  81.  45.  59.  46.  21.  50.   5. 174. 189.  15.   9.  93.   0. 439.\n",
      "  42. 239.  36.  10.  57. 146.  26. 225.   3.   2.  98. 105. 180. 110.\n",
      " 228.   6. 183.   8. 165. 100.  63.  44.  60.  20.  33. 267.  47.  13.\n",
      "  79.  62.  82.  27.  30. 218. 251. 318.  32.   7.  54. 131. 186.  48.\n",
      "  24.  65. 212.  51. 244. 291. 261.  38. 253. 215.  91. 317. 102.  66.\n",
      "  71.  23.  84.  75. 188. 115. 119.  18.  25. 136. 249. 126. 255.  29.\n",
      "  41. 264. 224. 152. 103. 337. 208.  12.  90.  56.  39. 134. 361. 120.\n",
      "  73. 222.  11.  80.  96. 191. 323.  34. 139. 109. 234.   4. 163.  77.\n",
      "  40. 353. 171. 113. 199. 101.  72. 138. 214. 114.  37.  83.  85.  49.\n",
      "  89. 106. 117. 332. 211. 343. 176.  78.  68. 151. 125.  64. 223. 168.\n",
      " 221.  61.  99. 166.  28. 107. 161.  94. 155. 127. 177. 111. 203. 173.\n",
      " 124. 378.  70. 129. 118.]\n"
     ]
    }
   ],
   "source": [
    "unique_values = df['final_televote_points'].unique()\n",
    "print(unique_values)"
   ]
  },
  {
   "cell_type": "code",
   "execution_count": 119,
   "metadata": {},
   "outputs": [
    {
     "data": {
      "text/plain": [
       "count    328.000000\n",
       "mean      90.539634\n",
       "std       86.852074\n",
       "min        0.000000\n",
       "25%       25.750000\n",
       "50%       59.000000\n",
       "75%      127.500000\n",
       "max      439.000000\n",
       "Name: final_televote_points, dtype: float64"
      ]
     },
     "execution_count": 119,
     "metadata": {},
     "output_type": "execute_result"
    }
   ],
   "source": [
    "df['final_televote_points'].describe()"
   ]
  },
  {
   "cell_type": "code",
   "execution_count": 120,
   "metadata": {},
   "outputs": [
    {
     "name": "stdout",
     "output_type": "stream",
     "text": [
      "1     NaN\n",
      "3     NaN\n",
      "5     NaN\n",
      "11    NaN\n",
      "13    NaN\n",
      "       ..\n",
      "547   NaN\n",
      "548   NaN\n",
      "550   NaN\n",
      "551   NaN\n",
      "559   NaN\n",
      "Name: final_televote_points, Length: 237, dtype: float64\n"
     ]
    }
   ],
   "source": [
    "missing_values = df[df['final_televote_points'].isnull()]['final_televote_points']\n",
    "print(missing_values)\n"
   ]
  },
  {
   "cell_type": "markdown",
   "metadata": {},
   "source": [
    "`'final_jury_points'`"
   ]
  },
  {
   "cell_type": "code",
   "execution_count": 121,
   "metadata": {},
   "outputs": [
    {
     "name": "stdout",
     "output_type": "stream",
     "text": [
      "final_jury_points\n",
      "0.0      5\n",
      "1.0      3\n",
      "3.0      4\n",
      "4.0      1\n",
      "5.0      1\n",
      "        ..\n",
      "312.0    1\n",
      "320.0    1\n",
      "340.0    1\n",
      "356.0    1\n",
      "382.0    1\n",
      "Name: count, Length: 180, dtype: int64\n"
     ]
    }
   ],
   "source": [
    "sorted_counts = df['final_jury_points'].value_counts().sort_index()\n",
    "print(sorted_counts)"
   ]
  },
  {
   "cell_type": "code",
   "execution_count": 122,
   "metadata": {},
   "outputs": [
    {
     "data": {
      "text/plain": [
       "count    328.000000\n",
       "mean      90.655488\n",
       "std       74.096517\n",
       "min        0.000000\n",
       "25%       36.000000\n",
       "50%       71.000000\n",
       "75%      126.000000\n",
       "max      382.000000\n",
       "Name: final_jury_points, dtype: float64"
      ]
     },
     "execution_count": 122,
     "metadata": {},
     "output_type": "execute_result"
    }
   ],
   "source": [
    "df['final_jury_points'].describe()"
   ]
  },
  {
   "cell_type": "markdown",
   "metadata": {},
   "source": [
    "`'final_total_points'`"
   ]
  },
  {
   "cell_type": "code",
   "execution_count": 123,
   "metadata": {},
   "outputs": [
    {
     "data": {
      "text/plain": [
       "count    358.000000\n",
       "mean     164.849162\n",
       "std      143.603444\n",
       "min        0.000000\n",
       "25%       68.250000\n",
       "50%      124.500000\n",
       "75%      225.250000\n",
       "max      758.000000\n",
       "Name: final_total_points, dtype: float64"
      ]
     },
     "execution_count": 123,
     "metadata": {},
     "output_type": "execute_result"
    }
   ],
   "source": [
    "df['final_total_points'].describe()"
   ]
  },
  {
   "cell_type": "code",
   "execution_count": 124,
   "metadata": {},
   "outputs": [
    {
     "name": "stdout",
     "output_type": "stream",
     "text": [
      "Unnamed: 0                        88\n",
      "song_name                Set Me Free\n",
      "artist_name                    Jimin\n",
      "danceability                   0.585\n",
      "energy                         0.815\n",
      "key                                0\n",
      "loudness                      -4.165\n",
      "mode                               0\n",
      "speechiness                   0.0565\n",
      "acousticness                   0.115\n",
      "instrumentalness                 0.0\n",
      "liveness                       0.124\n",
      "valence                        0.564\n",
      "tempo                         132.09\n",
      "year                            2021\n",
      "semi_final                         1\n",
      "semi_draw_position                12\n",
      "final_draw_position                3\n",
      "country                       Israel\n",
      "language                     English\n",
      "style                            Pop\n",
      "direct_qualifier_10                0\n",
      "gender                        Female\n",
      "main_singers                       1\n",
      "age                          unknown\n",
      "selection                    unknown\n",
      "key_change_10                unknown\n",
      "backing_dancers                    4\n",
      "backing_singers                    0\n",
      "backing_instruments                0\n",
      "instrument_10                      0\n",
      "qualified_10                       1\n",
      "final_televote_points           20.0\n",
      "final_jury_points               73.0\n",
      "final_televote_votes             4.0\n",
      "final_jury_votes                17.0\n",
      "final_place                     17.0\n",
      "final_total_points              93.0\n",
      "semi_place                       5.0\n",
      "semi_televote_points            93.0\n",
      "semi_jury_points                99.0\n",
      "semi_total_points              192.0\n",
      "favourite_10                       0\n",
      "race                         unknown\n",
      "host_10                            0\n",
      "Name: 88, dtype: object\n"
     ]
    }
   ],
   "source": [
    "row_index = 88  # Change the index according to the row you want to extract\n",
    "row_data = df.iloc[row_index]\n",
    "print(row_data)"
   ]
  },
  {
   "cell_type": "markdown",
   "metadata": {},
   "source": [
    "We can see that :"
   ]
  },
  {
   "cell_type": "markdown",
   "metadata": {},
   "source": [
    "$$\\text{final\\_total\\_points} = \\text{final\\_jury\\_points} + \\text{final\\_televote\\_points}$$\n"
   ]
  },
  {
   "cell_type": "markdown",
   "metadata": {},
   "source": [
    "### Final votes"
   ]
  },
  {
   "cell_type": "markdown",
   "metadata": {},
   "source": [
    "`'final_televote_votes'`"
   ]
  },
  {
   "cell_type": "code",
   "execution_count": 125,
   "metadata": {},
   "outputs": [
    {
     "data": {
      "text/plain": [
       "count    233.000000\n",
       "mean      15.184549\n",
       "std       12.828622\n",
       "min        0.000000\n",
       "25%        4.000000\n",
       "50%       11.000000\n",
       "75%       26.000000\n",
       "max       42.000000\n",
       "Name: final_televote_votes, dtype: float64"
      ]
     },
     "execution_count": 125,
     "metadata": {},
     "output_type": "execute_result"
    }
   ],
   "source": [
    "df['final_televote_votes'].describe()"
   ]
  },
  {
   "cell_type": "markdown",
   "metadata": {},
   "source": [
    "` 'final_jury_votes'`"
   ]
  },
  {
   "cell_type": "code",
   "execution_count": 126,
   "metadata": {},
   "outputs": [
    {
     "data": {
      "text/plain": [
       "count    233.000000\n",
       "mean      15.107296\n",
       "std        9.868602\n",
       "min        0.000000\n",
       "25%        7.000000\n",
       "50%       13.000000\n",
       "75%       22.000000\n",
       "max       39.000000\n",
       "Name: final_jury_votes, dtype: float64"
      ]
     },
     "execution_count": 126,
     "metadata": {},
     "output_type": "execute_result"
    }
   ],
   "source": [
    "df['final_jury_votes'].describe()"
   ]
  },
  {
   "cell_type": "markdown",
   "metadata": {},
   "source": [
    "### Final place"
   ]
  },
  {
   "cell_type": "markdown",
   "metadata": {},
   "source": [
    "`'final_place'`"
   ]
  },
  {
   "cell_type": "code",
   "execution_count": 127,
   "metadata": {},
   "outputs": [
    {
     "name": "stdout",
     "output_type": "stream",
     "text": [
      "final_place\n",
      "1.0     14\n",
      "2.0     14\n",
      "3.0     14\n",
      "4.0     13\n",
      "5.0     13\n",
      "6.0     14\n",
      "7.0     14\n",
      "8.0     14\n",
      "9.0     14\n",
      "10.0    14\n",
      "11.0    15\n",
      "12.0    14\n",
      "13.0    14\n",
      "14.0    14\n",
      "15.0    14\n",
      "16.0    14\n",
      "17.0    14\n",
      "18.0    14\n",
      "19.0    14\n",
      "20.0    14\n",
      "21.0    14\n",
      "22.0    13\n",
      "23.0    13\n",
      "24.0    14\n",
      "25.0    14\n",
      "26.0    10\n",
      "27.0     1\n",
      "Name: count, dtype: int64\n"
     ]
    }
   ],
   "source": [
    "sorted_counts = df['final_place'].value_counts().sort_index()\n",
    "print(sorted_counts)"
   ]
  },
  {
   "cell_type": "code",
   "execution_count": 128,
   "metadata": {},
   "outputs": [
    {
     "data": {
      "text/plain": [
       "count    358.000000\n",
       "mean      13.391061\n",
       "std        7.430208\n",
       "min        1.000000\n",
       "25%        7.000000\n",
       "50%       13.000000\n",
       "75%       20.000000\n",
       "max       27.000000\n",
       "Name: final_place, dtype: float64"
      ]
     },
     "execution_count": 128,
     "metadata": {},
     "output_type": "execute_result"
    }
   ],
   "source": [
    "df['final_place'].describe()"
   ]
  },
  {
   "cell_type": "markdown",
   "metadata": {},
   "source": [
    "### Semi points"
   ]
  },
  {
   "cell_type": "markdown",
   "metadata": {},
   "source": [
    "`'semi_televote_points'`"
   ]
  },
  {
   "cell_type": "code",
   "execution_count": 129,
   "metadata": {},
   "outputs": [
    {
     "data": {
      "text/plain": [
       "count    243.000000\n",
       "mean      68.263374\n",
       "std       50.617148\n",
       "min        0.000000\n",
       "25%       24.500000\n",
       "50%       54.000000\n",
       "75%      104.500000\n",
       "max      204.000000\n",
       "Name: semi_televote_points, dtype: float64"
      ]
     },
     "execution_count": 129,
     "metadata": {},
     "output_type": "execute_result"
    }
   ],
   "source": [
    "df['semi_televote_points'].describe()"
   ]
  },
  {
   "cell_type": "code",
   "execution_count": 130,
   "metadata": {},
   "outputs": [
    {
     "name": "stdout",
     "output_type": "stream",
     "text": [
      "31    NaN\n",
      "32    NaN\n",
      "33    NaN\n",
      "34    NaN\n",
      "35    NaN\n",
      "       ..\n",
      "560   NaN\n",
      "561   NaN\n",
      "562   NaN\n",
      "563   NaN\n",
      "564   NaN\n",
      "Name: semi_televote_points, Length: 322, dtype: float64\n"
     ]
    }
   ],
   "source": [
    "missing_values = df[df['semi_televote_points'].isnull()]['semi_televote_points']\n",
    "print(missing_values)\n"
   ]
  },
  {
   "cell_type": "code",
   "execution_count": 131,
   "metadata": {},
   "outputs": [
    {
     "name": "stdout",
     "output_type": "stream",
     "text": [
      "Unnamed: 0                               564\n",
      "song_name                La noche es para mi\n",
      "artist_name                           Soraya\n",
      "danceability                           0.658\n",
      "energy                                 0.842\n",
      "key                                        6\n",
      "loudness                              -4.604\n",
      "mode                                       0\n",
      "speechiness                           0.0549\n",
      "acousticness                          0.0604\n",
      "instrumentalness                         0.0\n",
      "liveness                              0.0916\n",
      "valence                                0.765\n",
      "tempo                                126.003\n",
      "year                                    2009\n",
      "semi_final                                 -\n",
      "semi_draw_position                         -\n",
      "final_draw_position                       25\n",
      "country                                Spain\n",
      "language                    Spanish, English\n",
      "style                                  Dance\n",
      "direct_qualifier_10                        1\n",
      "gender                                Female\n",
      "main_singers                               1\n",
      "age                                  unknown\n",
      "selection                            unknown\n",
      "key_change_10                        unknown\n",
      "backing_dancers                            2\n",
      "backing_singers                            3\n",
      "backing_instruments                        0\n",
      "instrument_10                              0\n",
      "qualified_10                               -\n",
      "final_televote_points                   38.0\n",
      "final_jury_points                        9.0\n",
      "final_televote_votes                     NaN\n",
      "final_jury_votes                         NaN\n",
      "final_place                             24.0\n",
      "final_total_points                      47.0\n",
      "semi_place                               NaN\n",
      "semi_televote_points                     NaN\n",
      "semi_jury_points                         NaN\n",
      "semi_total_points                        NaN\n",
      "favourite_10                               0\n",
      "race                                 unknown\n",
      "host_10                                    0\n",
      "Name: 564, dtype: object\n"
     ]
    }
   ],
   "source": [
    "row_index = 564 # Change the index according to the row you want to extract\n",
    "row_data = df.iloc[row_index]\n",
    "print(row_data)"
   ]
  },
  {
   "cell_type": "markdown",
   "metadata": {},
   "source": [
    "`'semi_jury_points'`"
   ]
  },
  {
   "cell_type": "code",
   "execution_count": 132,
   "metadata": {},
   "outputs": [
    {
     "data": {
      "text/plain": [
       "count    212.000000\n",
       "mean      67.575472\n",
       "std       47.545328\n",
       "min        0.000000\n",
       "25%       26.750000\n",
       "50%       58.000000\n",
       "75%       98.250000\n",
       "max      222.000000\n",
       "Name: semi_jury_points, dtype: float64"
      ]
     },
     "execution_count": 132,
     "metadata": {},
     "output_type": "execute_result"
    }
   ],
   "source": [
    "df['semi_jury_points'].describe()"
   ]
  },
  {
   "cell_type": "markdown",
   "metadata": {},
   "source": [
    "`'semi_total_points'`"
   ]
  },
  {
   "cell_type": "code",
   "execution_count": 133,
   "metadata": {},
   "outputs": [
    {
     "data": {
      "text/plain": [
       "count    483.000000\n",
       "mean      97.788820\n",
       "std       73.844662\n",
       "min        0.000000\n",
       "25%       43.000000\n",
       "50%       77.000000\n",
       "75%      134.000000\n",
       "max      403.000000\n",
       "Name: semi_total_points, dtype: float64"
      ]
     },
     "execution_count": 133,
     "metadata": {},
     "output_type": "execute_result"
    }
   ],
   "source": [
    "df['semi_total_points'].describe()"
   ]
  },
  {
   "cell_type": "markdown",
   "metadata": {},
   "source": [
    "### Semi place"
   ]
  },
  {
   "cell_type": "markdown",
   "metadata": {},
   "source": [
    "`'semi_place'`"
   ]
  },
  {
   "cell_type": "code",
   "execution_count": 134,
   "metadata": {},
   "outputs": [
    {
     "data": {
      "text/plain": [
       "count    483.000000\n",
       "mean       9.192547\n",
       "std        5.069863\n",
       "min        1.000000\n",
       "25%        5.000000\n",
       "50%        9.000000\n",
       "75%       13.500000\n",
       "max       19.000000\n",
       "Name: semi_place, dtype: float64"
      ]
     },
     "execution_count": 134,
     "metadata": {},
     "output_type": "execute_result"
    }
   ],
   "source": [
    "df['semi_place'].describe()"
   ]
  },
  {
   "cell_type": "code",
   "execution_count": 135,
   "metadata": {},
   "outputs": [
    {
     "data": {
      "text/plain": [
       "82"
      ]
     },
     "execution_count": 135,
     "metadata": {},
     "output_type": "execute_result"
    }
   ],
   "source": [
    "count = 0\n",
    "for i in df['semi_place'].isnull():\n",
    "    if i == True:\n",
    "        count+= 1\n",
    "\n",
    "count"
   ]
  },
  {
   "cell_type": "markdown",
   "metadata": {},
   "source": [
    "###  'favourite_10' (?)"
   ]
  },
  {
   "cell_type": "code",
   "execution_count": 136,
   "metadata": {},
   "outputs": [
    {
     "data": {
      "text/plain": [
       "count    565.000000\n",
       "mean       0.024779\n",
       "std        0.155588\n",
       "min        0.000000\n",
       "25%        0.000000\n",
       "50%        0.000000\n",
       "75%        0.000000\n",
       "max        1.000000\n",
       "Name: favourite_10, dtype: float64"
      ]
     },
     "execution_count": 136,
     "metadata": {},
     "output_type": "execute_result"
    }
   ],
   "source": [
    "df['favourite_10'].describe()"
   ]
  },
  {
   "cell_type": "code",
   "execution_count": 137,
   "metadata": {},
   "outputs": [
    {
     "data": {
      "text/plain": [
       "favourite_10\n",
       "0    551\n",
       "1     14\n",
       "Name: count, dtype: int64"
      ]
     },
     "execution_count": 137,
     "metadata": {},
     "output_type": "execute_result"
    }
   ],
   "source": [
    "df['favourite_10'].value_counts()"
   ]
  },
  {
   "cell_type": "markdown",
   "metadata": {},
   "source": [
    "### 'race' to be deleted"
   ]
  },
  {
   "cell_type": "code",
   "execution_count": 138,
   "metadata": {},
   "outputs": [
    {
     "data": {
      "text/plain": [
       "race\n",
       "unknown    565\n",
       "Name: count, dtype: int64"
      ]
     },
     "execution_count": 138,
     "metadata": {},
     "output_type": "execute_result"
    }
   ],
   "source": [
    "df['race'].value_counts()"
   ]
  },
  {
   "cell_type": "markdown",
   "metadata": {},
   "source": [
    "### 'host_10' (?)"
   ]
  },
  {
   "cell_type": "code",
   "execution_count": 139,
   "metadata": {},
   "outputs": [
    {
     "data": {
      "text/plain": [
       "host_10\n",
       "0    551\n",
       "1     14\n",
       "Name: count, dtype: int64"
      ]
     },
     "execution_count": 139,
     "metadata": {},
     "output_type": "execute_result"
    }
   ],
   "source": [
    "df['host_10'].value_counts()"
   ]
  },
  {
   "cell_type": "markdown",
   "metadata": {},
   "source": [
    "## Columns conclusions"
   ]
  },
  {
   "cell_type": "markdown",
   "metadata": {},
   "source": [
    "We have data from 2009-2023 years. \n",
    "Shape of dataset is 565 rows × 45 columns.\n",
    "Columns \"race\", \"selection\", \"key_change_10\", \"age\" have 565 values \"unknown\", so we can delete them from df.\n",
    "\n",
    "**Draw positions** \n",
    "\n",
    "It is order in which song was perform.\n",
    "\n",
    "\n",
    "`'semi_final'` - in which semi-finak song was perform ( 1 or 2). \"-\" if there is no information.\n",
    "\n",
    "`'semi_draw_position'` - position in which song was perform in semi-final. Values [1, 19] or \"-\"\n",
    "\n",
    "`'final_draw_position'` - position in which song was perform in final. [1, 27] or \"-\"\n"
   ]
  },
  {
   "cell_type": "markdown",
   "metadata": {},
   "source": [
    "**Country, language, style, gender**"
   ]
  },
  {
   "cell_type": "markdown",
   "metadata": {},
   "source": [
    "\n",
    "`'country'` - which country this song presented. 48 unique values.\n",
    "\n",
    "`'language'` - language of song. 76 unique values, including such values: Italian[f], English,ï¿½Greek, English,ï¿½Bulgarian, Serbian,ï¿½Latin, Russiaï¿½Ukrainian. \n",
    "\n",
    "`\"style\"` - style of song. 6 unique values. Pop, Ballad, Dance, Rock, Traditional, Opera .\n",
    "\n",
    "`\"gender\"` - female, male, mix"
   ]
  },
  {
   "cell_type": "markdown",
   "metadata": {},
   "source": [
    "**Main singers**"
   ]
  },
  {
   "cell_type": "markdown",
   "metadata": {},
   "source": [
    "`'main_singers'` - how much main singers [1, 5]"
   ]
  },
  {
   "cell_type": "markdown",
   "metadata": {},
   "source": [
    "**Backing staff**\n",
    "\n",
    "`'backing_dancers'` - how much dancers on the back [0, 5]\n",
    "\n",
    "`'backing_singers'`- how much singers on the back [0, 5]\n",
    "\n",
    "`'backing_instruments'` - how much instruments on the back[0, 5]"
   ]
  },
  {
   "cell_type": "markdown",
   "metadata": {},
   "source": [
    "**Semi final points and places**"
   ]
  },
  {
   "cell_type": "markdown",
   "metadata": {},
   "source": [
    "`'semi_televote_points'` - points from televote in semi-final.  243 values,  322 NaN [0, 204],\n",
    "\n",
    "`'semi_jury_points'` -  - points from jury in semi-final.212 values, 353 NaN [0, 222]\n",
    "\n",
    "`'semi_total_points'` = semi_jury_points + semi_televote_points. 483 values, 82 Nan [0, 403]\n",
    "\n",
    "`'semi_place'` - place in semi-final. 483 values, 82 NaN (or Null)  [1, 19] \n",
    "\n"
   ]
  },
  {
   "cell_type": "markdown",
   "metadata": {},
   "source": [
    "**Final points, votes, places**"
   ]
  },
  {
   "cell_type": "markdown",
   "metadata": {},
   "source": [
    "`'final_televote_points'` -  points from televote in final.  328 values,  237 NaN [0, 439]\n",
    "\n",
    "`'final_jury_points'` -   points from jury in final.  328 values,  237 NaN [0,  382],\n",
    "\n",
    "`'final_total_points'`  = final_jury_points + final_televote_points, 358 values, 207 NaN [0,  758]\n",
    "\n",
    "`'final_place'` -  358 values [1, 27]"
   ]
  },
  {
   "cell_type": "markdown",
   "metadata": {},
   "source": [
    "`'final_televote_votes'` - 233 values [0, 42]\n",
    "\n",
    "` 'final_jury_votes'` - 233 values [0, 39]\n",
    "\n",
    "Don't understand what they exectly mean.\n"
   ]
  },
  {
   "cell_type": "markdown",
   "metadata": {},
   "source": [
    "Columns which I don't understand: \n",
    "\n",
    "`'direct_qualifier_10'`, `'favourite_10'`, `host_10`, `Instruments10`, `qualified_10`"
   ]
  },
  {
   "cell_type": "markdown",
   "metadata": {},
   "source": [
    "## Some visualizations"
   ]
  },
  {
   "cell_type": "markdown",
   "metadata": {},
   "source": [
    "### Languages"
   ]
  },
  {
   "cell_type": "code",
   "execution_count": 140,
   "metadata": {},
   "outputs": [
    {
     "data": {
      "image/png": "[encoded data removed]",
      "text/plain": [
       "<Figure size 800x600 with 1 Axes>"
      ]
     },
     "metadata": {},
     "output_type": "display_data"
    }
   ],
   "source": [
    "# Counting frequencies\n",
    "language_counts = df['language'].value_counts()\n",
    "top_languages = language_counts.head(5)\n",
    "\n",
    "# Plotting\n",
    "plt.figure(figsize=(8, 6))\n",
    "top_languages.plot(kind='pie', autopct='%1.1f%%', startangle=50)\n",
    "plt.title('Top 5  Languages')\n",
    "plt.ylabel('')  # Remove y-axis label\n",
    "plt.axis('equal')  # Equal aspect ratio ensures that pie is drawn as a circle.\n",
    "plt.show()"
   ]
  },
  {
   "cell_type": "code",
   "execution_count": 141,
   "metadata": {},
   "outputs": [
    {
     "data": {
      "image/png": "[encoded data removed]",
      "text/plain": [
       "<Figure size 800x600 with 1 Axes>"
      ]
     },
     "metadata": {},
     "output_type": "display_data"
    }
   ],
   "source": [
    "\n",
    "semi_place_1_10_df = df[(df['semi_place'] >= 1) & (df['semi_place'] <= 10)]\n",
    "\n",
    "plt.figure(figsize=(8, 6))\n",
    "language_counts = semi_place_1_10_df['language'].value_counts().head(5)\n",
    "language_counts.plot(kind='bar', color='skyblue')\n",
    "plt.title('Distribution of languages in semi-final 1-10 places (top 5)')\n",
    "plt.xlabel('Language')\n",
    "plt.ylabel('Frequency')\n",
    "plt.xticks(rotation=45)  # Rotate x-axis labels for better readability\n",
    "plt.grid(axis='y', linestyle='--', alpha=0.7)\n",
    "plt.tight_layout()\n",
    "plt.show()"
   ]
  },
  {
   "cell_type": "code",
   "execution_count": 142,
   "metadata": {},
   "outputs": [
    {
     "data": {
      "image/png": "[encoded data removed]",
      "text/plain": [
       "<Figure size 800x600 with 1 Axes>"
      ]
     },
     "metadata": {},
     "output_type": "display_data"
    }
   ],
   "source": [
    "final_place_1_df = df[df['final_place'] == 1]\n",
    "\n",
    "plt.figure(figsize=(8, 6))\n",
    "language_counts = final_place_1_df['language'].value_counts()\n",
    "language_counts.plot(kind='bar', color='skyblue')\n",
    "plt.title('Distribution of languages in final 1places')\n",
    "plt.xlabel('Language')\n",
    "plt.ylabel('Frequency')\n",
    "plt.xticks(rotation=45)  # Rotate x-axis labels for better readability\n",
    "plt.grid(axis='y', linestyle='--', alpha=0.7)\n",
    "plt.tight_layout()\n",
    "plt.show()"
   ]
  },
  {
   "cell_type": "code",
   "execution_count": 143,
   "metadata": {},
   "outputs": [
    {
     "data": {
      "text/plain": [
       "10                      English\n",
       "42                    Ukrainian\n",
       "115                     Italian\n",
       "148                     English\n",
       "163                     English\n",
       "208                  Portuguese\n",
       "273    English,ï¿½Crimean Tatar\n",
       "312                     English\n",
       "344                     English\n",
       "364                     English\n",
       "427                     English\n",
       "458                     English\n",
       "522                     English\n",
       "546                     English\n",
       "Name: language, dtype: object"
      ]
     },
     "execution_count": 143,
     "metadata": {},
     "output_type": "execute_result"
    }
   ],
   "source": [
    "final_place_1_df[\"language\"]"
   ]
  },
  {
   "cell_type": "markdown",
   "metadata": {},
   "source": [
    "### Countries"
   ]
  },
  {
   "cell_type": "code",
   "execution_count": 144,
   "metadata": {},
   "outputs": [
    {
     "data": {
      "image/png": "[encoded data removed]",
      "text/plain": [
       "<Figure size 1600x1200 with 1 Axes>"
      ]
     },
     "metadata": {},
     "output_type": "display_data"
    }
   ],
   "source": [
    "plt.figure(figsize=(16, 12))\n",
    "country_counts = semi_place_1_10_df['country'].value_counts()\n",
    "country_counts.plot(kind='barh', color='skyblue')\n",
    "plt.title('Distribution of countries in semi-final 1-10 places')\n",
    "plt.xlabel('Frequency')\n",
    "plt.ylabel('Country')\n",
    "plt.xticks(rotation=45)  # Rotate x-axis labels for better readability\n",
    "plt.grid(axis='y', linestyle='--', alpha=0.7)\n",
    "plt.tight_layout()\n",
    "plt.show()"
   ]
  },
  {
   "cell_type": "code",
   "execution_count": 145,
   "metadata": {},
   "outputs": [
    {
     "data": {
      "image/png": "[encoded data removed]",
      "text/plain": [
       "<Figure size 800x600 with 1 Axes>"
      ]
     },
     "metadata": {},
     "output_type": "display_data"
    }
   ],
   "source": [
    "plt.figure(figsize=(8, 6))\n",
    "country_counts = final_place_1_df['country'].value_counts()\n",
    "country_counts.plot(kind='barh', color='skyblue')\n",
    "plt.title('Distribution of countries in final 1 place')\n",
    "plt.xlabel('Frequency')\n",
    "plt.ylabel('Country')\n",
    "plt.xticks(rotation=45)  # Rotate x-axis labels for better readability\n",
    "plt.grid(axis='y', linestyle='--', alpha=0.7)\n",
    "plt.tight_layout()\n",
    "plt.show()"
   ]
  },
  {
   "cell_type": "markdown",
   "metadata": {},
   "source": [
    "### Styles"
   ]
  },
  {
   "cell_type": "code",
   "execution_count": 146,
   "metadata": {},
   "outputs": [
    {
     "data": {
      "image/png": "[encoded data removed]",
      "text/plain": [
       "<Figure size 800x600 with 1 Axes>"
      ]
     },
     "metadata": {},
     "output_type": "display_data"
    }
   ],
   "source": [
    "# Counting frequencies\n",
    "styles_counts = df['style'].value_counts()\n",
    "\n",
    "\n",
    "# Plotting\n",
    "plt.figure(figsize=(8, 6))\n",
    "styles_counts.plot(kind='pie', autopct='%1.1f%%', startangle=50)\n",
    "plt.title('Distribution of music styles')\n",
    "plt.ylabel('')  # Remove y-axis label\n",
    "plt.axis('equal')  # Equal aspect ratio ensures that pie is drawn as a circle.\n",
    "plt.show()"
   ]
  },
  {
   "cell_type": "code",
   "execution_count": 147,
   "metadata": {},
   "outputs": [
    {
     "data": {
      "image/png": "[encoded data removed]",
      "text/plain": [
       "<Figure size 800x600 with 1 Axes>"
      ]
     },
     "metadata": {},
     "output_type": "display_data"
    }
   ],
   "source": [
    "plt.figure(figsize=(8, 6))\n",
    "df['style'].value_counts().plot(kind='bar', color='skyblue')\n",
    "plt.title('Distribution of Music Styles')\n",
    "plt.xlabel('Style')\n",
    "plt.ylabel('Frequency')\n",
    "plt.xticks(rotation=45)  # Rotate x-axis labels for better readability\n",
    "plt.grid(axis='y', linestyle='--', alpha=0.7)\n",
    "plt.tight_layout()\n",
    "plt.show()"
   ]
  },
  {
   "cell_type": "code",
   "execution_count": 148,
   "metadata": {},
   "outputs": [
    {
     "data": {
      "text/plain": [
       "Index(['Unnamed: 0', 'song_name', 'artist_name', 'danceability', 'energy',\n",
       "       'key', 'loudness', 'mode', 'speechiness', 'acousticness',\n",
       "       'instrumentalness', 'liveness', 'valence', 'tempo', 'year',\n",
       "       'semi_final', 'semi_draw_position', 'final_draw_position', 'country',\n",
       "       'language', 'style', 'direct_qualifier_10', 'gender', 'main_singers',\n",
       "       'age', 'selection', 'key_change_10', 'backing_dancers',\n",
       "       'backing_singers', 'backing_instruments', 'instrument_10',\n",
       "       'qualified_10', 'final_televote_points', 'final_jury_points',\n",
       "       'final_televote_votes', 'final_jury_votes', 'final_place',\n",
       "       'final_total_points', 'semi_place', 'semi_televote_points',\n",
       "       'semi_jury_points', 'semi_total_points', 'favourite_10', 'race',\n",
       "       'host_10'],\n",
       "      dtype='object')"
      ]
     },
     "execution_count": 148,
     "metadata": {},
     "output_type": "execute_result"
    }
   ],
   "source": [
    "df.columns"
   ]
  },
  {
   "cell_type": "code",
   "execution_count": 149,
   "metadata": {},
   "outputs": [
    {
     "data": {
      "text/plain": [
       "<matplotlib.legend.Legend at 0x1a2f4dea6c0>"
      ]
     },
     "execution_count": 149,
     "metadata": {},
     "output_type": "execute_result"
    },
    {
     "data": {
      "image/png": "[encoded data removed]",
      "text/plain": [
       "<Figure size 800x600 with 1 Axes>"
      ]
     },
     "metadata": {},
     "output_type": "display_data"
    }
   ],
   "source": [
    "\n",
    "\n",
    "# Plotting histogram for column_name\n",
    "plt.figure(figsize=(8, 6))\n",
    "plt.hist(df['final_total_points'], bins=20, color='mediumseagreen', edgecolor='black')  # Adjust bins as needed\n",
    "plt.title('Distribution of final_total_points')\n",
    "\n",
    "median = df.final_total_points.median()\n",
    "mean = df.final_total_points.mean()\n",
    "\n",
    "plt.axvline(x=mean, color='red', label=f'mean: {mean}')\n",
    "plt.axvline(x=median, color='purple', label=f'median: {median}')\n",
    "\n",
    "plt.xlabel('Values')\n",
    "plt.ylabel('Frequency')\n",
    "plt.grid(axis='y', linestyle='--', alpha=0.7)\n",
    "\n",
    "plt.legend()\n"
   ]
  },
  {
   "cell_type": "code",
   "execution_count": 150,
   "metadata": {},
   "outputs": [
    {
     "data": {
      "image/png": "[encoded data removed]",
      "text/plain": [
       "<Figure size 640x480 with 1 Axes>"
      ]
     },
     "metadata": {},
     "output_type": "display_data"
    }
   ],
   "source": [
    "sns.boxplot(x=df['final_total_points'], color='mediumorchid')\n",
    "plt.title('Boxplot for final_total_points column')\n",
    "plt.grid()\n",
    "plt.show()"
   ]
  },
  {
   "cell_type": "code",
   "execution_count": 151,
   "metadata": {},
   "outputs": [
    {
     "data": {
      "image/png": "[encoded data removed]",
      "text/plain": [
       "<Figure size 1000x800 with 2 Axes>"
      ]
     },
     "metadata": {},
     "output_type": "display_data"
    }
   ],
   "source": [
    "# Calculating correlation matrix\n",
    "columns_for_correlation = [ 'danceability', 'energy',\n",
    "       'key', 'loudness', 'mode', 'speechiness', 'acousticness',\n",
    "       'instrumentalness', 'liveness', 'valence', 'tempo', 'final_place', 'final_total_points']\n",
    "correlation_matrix = df[columns_for_correlation].corr()\n",
    "\n",
    "# Plotting heatmap\n",
    "plt.figure(figsize=(10, 8))\n",
    "sns.heatmap(correlation_matrix, annot=True, cmap='coolwarm', fmt=\".2f\", annot_kws={\"size\": 10})\n",
    "plt.title('Correlation Heatmap')\n",
    "plt.show()"
   ]
  },
  {
   "cell_type": "code",
   "execution_count": 152,
   "metadata": {},
   "outputs": [
    {
     "data": {
      "text/plain": [
       "<matplotlib.legend.Legend at 0x1a2f5aac230>"
      ]
     },
     "execution_count": 152,
     "metadata": {},
     "output_type": "execute_result"
    },
    {
     "data": {
      "image/png": "[encoded data removed]",
      "text/plain": [
       "<Figure size 800x600 with 1 Axes>"
      ]
     },
     "metadata": {},
     "output_type": "display_data"
    }
   ],
   "source": [
    "# Plotting histogram for column_name\n",
    "plt.figure(figsize=(8, 6))\n",
    "plt.hist(df['semi_total_points'], bins=20, color='mediumseagreen', edgecolor='black')  # Adjust bins as needed\n",
    "plt.title('Distribution of semi_total_points')\n",
    "\n",
    "median = df.final_total_points.median()\n",
    "mean = df.final_total_points.mean()\n",
    "\n",
    "plt.axvline(x=mean, color='red', label=f'mean: {mean}')\n",
    "plt.axvline(x=median, color='purple', label=f'median: {median}')\n",
    "\n",
    "plt.xlabel('Values')\n",
    "plt.ylabel('Frequency')\n",
    "plt.grid(axis='y', linestyle='--', alpha=0.7)\n",
    "\n",
    "plt.legend()"
   ]
  },
  {
   "cell_type": "code",
   "execution_count": 153,
   "metadata": {},
   "outputs": [
    {
     "data": {
      "image/png": "[encoded data removed]",
      "text/plain": [
       "<Figure size 640x480 with 1 Axes>"
      ]
     },
     "metadata": {},
     "output_type": "display_data"
    }
   ],
   "source": [
    "sns.boxplot(x=df['semi_total_points'], color='mediumorchid')\n",
    "plt.title('Boxplot for final_total_points column')\n",
    "plt.grid()\n",
    "plt.show()"
   ]
  },
  {
   "cell_type": "code",
   "execution_count": 154,
   "metadata": {},
   "outputs": [
    {
     "data": {
      "text/html": [
       "<div>\n",
       "<style scoped>\n",
       "    .dataframe tbody tr th:only-of-type {\n",
       "        vertical-align: middle;\n",
       "    }\n",
       "\n",
       "    .dataframe tbody tr th {\n",
       "        vertical-align: top;\n",
       "    }\n",
       "\n",
       "    .dataframe thead th {\n",
       "        text-align: right;\n",
       "    }\n",
       "</style>\n",
       "<table border=\"1\" class=\"dataframe\">\n",
       "  <thead>\n",
       "    <tr style=\"text-align: right;\">\n",
       "      <th></th>\n",
       "      <th>Unnamed: 0</th>\n",
       "      <th>danceability</th>\n",
       "      <th>energy</th>\n",
       "      <th>key</th>\n",
       "      <th>loudness</th>\n",
       "      <th>mode</th>\n",
       "      <th>speechiness</th>\n",
       "      <th>acousticness</th>\n",
       "      <th>instrumentalness</th>\n",
       "      <th>liveness</th>\n",
       "      <th>...</th>\n",
       "      <th>final_televote_votes</th>\n",
       "      <th>final_jury_votes</th>\n",
       "      <th>final_place</th>\n",
       "      <th>final_total_points</th>\n",
       "      <th>semi_place</th>\n",
       "      <th>semi_televote_points</th>\n",
       "      <th>semi_jury_points</th>\n",
       "      <th>semi_total_points</th>\n",
       "      <th>favourite_10</th>\n",
       "      <th>host_10</th>\n",
       "    </tr>\n",
       "  </thead>\n",
       "  <tbody>\n",
       "    <tr>\n",
       "      <th>count</th>\n",
       "      <td>565.000000</td>\n",
       "      <td>565.000000</td>\n",
       "      <td>565.000000</td>\n",
       "      <td>565.000000</td>\n",
       "      <td>565.000000</td>\n",
       "      <td>565.000000</td>\n",
       "      <td>565.000000</td>\n",
       "      <td>565.000000</td>\n",
       "      <td>565.000000</td>\n",
       "      <td>565.000000</td>\n",
       "      <td>...</td>\n",
       "      <td>233.000000</td>\n",
       "      <td>233.000000</td>\n",
       "      <td>358.000000</td>\n",
       "      <td>358.000000</td>\n",
       "      <td>483.000000</td>\n",
       "      <td>243.000000</td>\n",
       "      <td>212.000000</td>\n",
       "      <td>483.000000</td>\n",
       "      <td>565.000000</td>\n",
       "      <td>565.000000</td>\n",
       "    </tr>\n",
       "    <tr>\n",
       "      <th>mean</th>\n",
       "      <td>282.000000</td>\n",
       "      <td>0.580578</td>\n",
       "      <td>0.636634</td>\n",
       "      <td>5.109735</td>\n",
       "      <td>-7.635127</td>\n",
       "      <td>0.605310</td>\n",
       "      <td>0.075103</td>\n",
       "      <td>0.262994</td>\n",
       "      <td>0.089210</td>\n",
       "      <td>0.179701</td>\n",
       "      <td>...</td>\n",
       "      <td>15.184549</td>\n",
       "      <td>15.107296</td>\n",
       "      <td>13.391061</td>\n",
       "      <td>164.849162</td>\n",
       "      <td>9.192547</td>\n",
       "      <td>68.263374</td>\n",
       "      <td>67.575472</td>\n",
       "      <td>97.788820</td>\n",
       "      <td>0.024779</td>\n",
       "      <td>0.024779</td>\n",
       "    </tr>\n",
       "    <tr>\n",
       "      <th>std</th>\n",
       "      <td>163.245725</td>\n",
       "      <td>0.166431</td>\n",
       "      <td>0.224226</td>\n",
       "      <td>3.538841</td>\n",
       "      <td>4.172644</td>\n",
       "      <td>0.489217</td>\n",
       "      <td>0.074560</td>\n",
       "      <td>0.289675</td>\n",
       "      <td>0.250651</td>\n",
       "      <td>0.135188</td>\n",
       "      <td>...</td>\n",
       "      <td>12.828622</td>\n",
       "      <td>9.868602</td>\n",
       "      <td>7.430208</td>\n",
       "      <td>143.603444</td>\n",
       "      <td>5.069863</td>\n",
       "      <td>50.617148</td>\n",
       "      <td>47.545328</td>\n",
       "      <td>73.844662</td>\n",
       "      <td>0.155588</td>\n",
       "      <td>0.155588</td>\n",
       "    </tr>\n",
       "    <tr>\n",
       "      <th>min</th>\n",
       "      <td>0.000000</td>\n",
       "      <td>0.068800</td>\n",
       "      <td>0.004630</td>\n",
       "      <td>0.000000</td>\n",
       "      <td>-32.732000</td>\n",
       "      <td>0.000000</td>\n",
       "      <td>0.025000</td>\n",
       "      <td>0.000003</td>\n",
       "      <td>0.000000</td>\n",
       "      <td>0.031300</td>\n",
       "      <td>...</td>\n",
       "      <td>0.000000</td>\n",
       "      <td>0.000000</td>\n",
       "      <td>1.000000</td>\n",
       "      <td>0.000000</td>\n",
       "      <td>1.000000</td>\n",
       "      <td>0.000000</td>\n",
       "      <td>0.000000</td>\n",
       "      <td>0.000000</td>\n",
       "      <td>0.000000</td>\n",
       "      <td>0.000000</td>\n",
       "    </tr>\n",
       "    <tr>\n",
       "      <th>25%</th>\n",
       "      <td>141.000000</td>\n",
       "      <td>0.463000</td>\n",
       "      <td>0.488000</td>\n",
       "      <td>2.000000</td>\n",
       "      <td>-9.020000</td>\n",
       "      <td>0.000000</td>\n",
       "      <td>0.035400</td>\n",
       "      <td>0.026300</td>\n",
       "      <td>0.000000</td>\n",
       "      <td>0.097500</td>\n",
       "      <td>...</td>\n",
       "      <td>4.000000</td>\n",
       "      <td>7.000000</td>\n",
       "      <td>7.000000</td>\n",
       "      <td>68.250000</td>\n",
       "      <td>5.000000</td>\n",
       "      <td>24.500000</td>\n",
       "      <td>26.750000</td>\n",
       "      <td>43.000000</td>\n",
       "      <td>0.000000</td>\n",
       "      <td>0.000000</td>\n",
       "    </tr>\n",
       "    <tr>\n",
       "      <th>50%</th>\n",
       "      <td>282.000000</td>\n",
       "      <td>0.596000</td>\n",
       "      <td>0.666000</td>\n",
       "      <td>5.000000</td>\n",
       "      <td>-6.514000</td>\n",
       "      <td>1.000000</td>\n",
       "      <td>0.046900</td>\n",
       "      <td>0.133000</td>\n",
       "      <td>0.000005</td>\n",
       "      <td>0.124000</td>\n",
       "      <td>...</td>\n",
       "      <td>11.000000</td>\n",
       "      <td>13.000000</td>\n",
       "      <td>13.000000</td>\n",
       "      <td>124.500000</td>\n",
       "      <td>9.000000</td>\n",
       "      <td>54.000000</td>\n",
       "      <td>58.000000</td>\n",
       "      <td>77.000000</td>\n",
       "      <td>0.000000</td>\n",
       "      <td>0.000000</td>\n",
       "    </tr>\n",
       "    <tr>\n",
       "      <th>75%</th>\n",
       "      <td>423.000000</td>\n",
       "      <td>0.700000</td>\n",
       "      <td>0.821000</td>\n",
       "      <td>8.000000</td>\n",
       "      <td>-5.026000</td>\n",
       "      <td>1.000000</td>\n",
       "      <td>0.076300</td>\n",
       "      <td>0.451000</td>\n",
       "      <td>0.001220</td>\n",
       "      <td>0.230000</td>\n",
       "      <td>...</td>\n",
       "      <td>26.000000</td>\n",
       "      <td>22.000000</td>\n",
       "      <td>20.000000</td>\n",
       "      <td>225.250000</td>\n",
       "      <td>13.500000</td>\n",
       "      <td>104.500000</td>\n",
       "      <td>98.250000</td>\n",
       "      <td>134.000000</td>\n",
       "      <td>0.000000</td>\n",
       "      <td>0.000000</td>\n",
       "    </tr>\n",
       "    <tr>\n",
       "      <th>max</th>\n",
       "      <td>564.000000</td>\n",
       "      <td>0.979000</td>\n",
       "      <td>0.999000</td>\n",
       "      <td>11.000000</td>\n",
       "      <td>-0.142000</td>\n",
       "      <td>1.000000</td>\n",
       "      <td>0.524000</td>\n",
       "      <td>0.994000</td>\n",
       "      <td>0.984000</td>\n",
       "      <td>0.938000</td>\n",
       "      <td>...</td>\n",
       "      <td>42.000000</td>\n",
       "      <td>39.000000</td>\n",
       "      <td>27.000000</td>\n",
       "      <td>758.000000</td>\n",
       "      <td>19.000000</td>\n",
       "      <td>204.000000</td>\n",
       "      <td>222.000000</td>\n",
       "      <td>403.000000</td>\n",
       "      <td>1.000000</td>\n",
       "      <td>1.000000</td>\n",
       "    </tr>\n",
       "  </tbody>\n",
       "</table>\n",
       "<p>8 rows × 30 columns</p>\n",
       "</div>"
      ],
      "text/plain": [
       "       Unnamed: 0  danceability      energy         key    loudness  \\\n",
       "count  565.000000    565.000000  565.000000  565.000000  565.000000   \n",
       "mean   282.000000      0.580578    0.636634    5.109735   -7.635127   \n",
       "std    163.245725      0.166431    0.224226    3.538841    4.172644   \n",
       "min      0.000000      0.068800    0.004630    0.000000  -32.732000   \n",
       "25%    141.000000      0.463000    0.488000    2.000000   -9.020000   \n",
       "50%    282.000000      0.596000    0.666000    5.000000   -6.514000   \n",
       "75%    423.000000      0.700000    0.821000    8.000000   -5.026000   \n",
       "max    564.000000      0.979000    0.999000   11.000000   -0.142000   \n",
       "\n",
       "             mode  speechiness  acousticness  instrumentalness    liveness  \\\n",
       "count  565.000000   565.000000    565.000000        565.000000  565.000000   \n",
       "mean     0.605310     0.075103      0.262994          0.089210    0.179701   \n",
       "std      0.489217     0.074560      0.289675          0.250651    0.135188   \n",
       "min      0.000000     0.025000      0.000003          0.000000    0.031300   \n",
       "25%      0.000000     0.035400      0.026300          0.000000    0.097500   \n",
       "50%      1.000000     0.046900      0.133000          0.000005    0.124000   \n",
       "75%      1.000000     0.076300      0.451000          0.001220    0.230000   \n",
       "max      1.000000     0.524000      0.994000          0.984000    0.938000   \n",
       "\n",
       "       ...  final_televote_votes  final_jury_votes  final_place  \\\n",
       "count  ...            233.000000        233.000000   358.000000   \n",
       "mean   ...             15.184549         15.107296    13.391061   \n",
       "std    ...             12.828622          9.868602     7.430208   \n",
       "min    ...              0.000000          0.000000     1.000000   \n",
       "25%    ...              4.000000          7.000000     7.000000   \n",
       "50%    ...             11.000000         13.000000    13.000000   \n",
       "75%    ...             26.000000         22.000000    20.000000   \n",
       "max    ...             42.000000         39.000000    27.000000   \n",
       "\n",
       "       final_total_points  semi_place  semi_televote_points  semi_jury_points  \\\n",
       "count          358.000000  483.000000            243.000000        212.000000   \n",
       "mean           164.849162    9.192547             68.263374         67.575472   \n",
       "std            143.603444    5.069863             50.617148         47.545328   \n",
       "min              0.000000    1.000000              0.000000          0.000000   \n",
       "25%             68.250000    5.000000             24.500000         26.750000   \n",
       "50%            124.500000    9.000000             54.000000         58.000000   \n",
       "75%            225.250000   13.500000            104.500000         98.250000   \n",
       "max            758.000000   19.000000            204.000000        222.000000   \n",
       "\n",
       "       semi_total_points  favourite_10     host_10  \n",
       "count         483.000000    565.000000  565.000000  \n",
       "mean           97.788820      0.024779    0.024779  \n",
       "std            73.844662      0.155588    0.155588  \n",
       "min             0.000000      0.000000    0.000000  \n",
       "25%            43.000000      0.000000    0.000000  \n",
       "50%            77.000000      0.000000    0.000000  \n",
       "75%           134.000000      0.000000    0.000000  \n",
       "max           403.000000      1.000000    1.000000  \n",
       "\n",
       "[8 rows x 30 columns]"
      ]
     },
     "execution_count": 154,
     "metadata": {},
     "output_type": "execute_result"
    }
   ],
   "source": [
    "df.describe()"
   ]
  },
  {
   "cell_type": "markdown",
   "metadata": {},
   "source": [
    "## Updated dataset"
   ]
  },
  {
   "cell_type": "code",
   "execution_count": 155,
   "metadata": {},
   "outputs": [
    {
     "data": {
      "text/plain": [
       "Index(['Unnamed: 0', 'song_name', 'artist_name', 'danceability', 'energy',\n",
       "       'key', 'loudness', 'mode', 'speechiness', 'acousticness',\n",
       "       'instrumentalness', 'liveness', 'valence', 'tempo', 'year',\n",
       "       'semi_final', 'semi_draw_position', 'final_draw_position', 'country',\n",
       "       'language', 'style', 'direct_qualifier_10', 'gender', 'main_singers',\n",
       "       'age', 'selection', 'key_change_10', 'backing_dancers',\n",
       "       'backing_singers', 'backing_instruments', 'instrument_10',\n",
       "       'qualified_10', 'final_televote_points', 'final_jury_points',\n",
       "       'final_televote_votes', 'final_jury_votes', 'final_place',\n",
       "       'final_total_points', 'semi_place', 'semi_televote_points',\n",
       "       'semi_jury_points', 'semi_total_points', 'favourite_10', 'race',\n",
       "       'host_10'],\n",
       "      dtype='object')"
      ]
     },
     "execution_count": 155,
     "metadata": {},
     "output_type": "execute_result"
    }
   ],
   "source": [
    "df.columns"
   ]
  },
  {
   "cell_type": "markdown",
   "metadata": {},
   "source": [
    "'direct_qualifier_10', 'favourite_10', host_10, Instruments10, qualified_10\n",
    "\n",
    "Columns \"race\", \"selection\", \"key_change_10\", \"age\" have 565 values \"unknown\", so we can delete them from df."
   ]
  },
  {
   "cell_type": "code",
   "execution_count": 156,
   "metadata": {},
   "outputs": [],
   "source": [
    "columns_to_delete = ['Unnamed: 0', 'direct_qualifier_10', 'favourite_10', 'host_10', 'key_change_10', 'instrument_10',\n",
    "                      'qualified_10', \"race\", \"selection\", \"age\" ]\n",
    "\n",
    "# Delete the columns\n",
    "df.drop(columns=columns_to_delete, inplace=True)"
   ]
  },
  {
   "cell_type": "code",
   "execution_count": 157,
   "metadata": {},
   "outputs": [
    {
     "data": {
      "text/html": [
       "<div>\n",
       "<style scoped>\n",
       "    .dataframe tbody tr th:only-of-type {\n",
       "        vertical-align: middle;\n",
       "    }\n",
       "\n",
       "    .dataframe tbody tr th {\n",
       "        vertical-align: top;\n",
       "    }\n",
       "\n",
       "    .dataframe thead th {\n",
       "        text-align: right;\n",
       "    }\n",
       "</style>\n",
       "<table border=\"1\" class=\"dataframe\">\n",
       "  <thead>\n",
       "    <tr style=\"text-align: right;\">\n",
       "      <th></th>\n",
       "      <th>song_name</th>\n",
       "      <th>artist_name</th>\n",
       "      <th>danceability</th>\n",
       "      <th>energy</th>\n",
       "      <th>key</th>\n",
       "      <th>loudness</th>\n",
       "      <th>mode</th>\n",
       "      <th>speechiness</th>\n",
       "      <th>acousticness</th>\n",
       "      <th>instrumentalness</th>\n",
       "      <th>...</th>\n",
       "      <th>final_televote_points</th>\n",
       "      <th>final_jury_points</th>\n",
       "      <th>final_televote_votes</th>\n",
       "      <th>final_jury_votes</th>\n",
       "      <th>final_place</th>\n",
       "      <th>final_total_points</th>\n",
       "      <th>semi_place</th>\n",
       "      <th>semi_televote_points</th>\n",
       "      <th>semi_jury_points</th>\n",
       "      <th>semi_total_points</th>\n",
       "    </tr>\n",
       "  </thead>\n",
       "  <tbody>\n",
       "    <tr>\n",
       "      <th>0</th>\n",
       "      <td>Queen of Kings</td>\n",
       "      <td>Alessandra</td>\n",
       "      <td>0.563</td>\n",
       "      <td>0.908</td>\n",
       "      <td>4</td>\n",
       "      <td>-4.250</td>\n",
       "      <td>0</td>\n",
       "      <td>0.0868</td>\n",
       "      <td>0.06960</td>\n",
       "      <td>0.000000</td>\n",
       "      <td>...</td>\n",
       "      <td>216.0</td>\n",
       "      <td>52.0</td>\n",
       "      <td>36.0</td>\n",
       "      <td>11.0</td>\n",
       "      <td>5.0</td>\n",
       "      <td>268.0</td>\n",
       "      <td>6.0</td>\n",
       "      <td>102.0</td>\n",
       "      <td>NaN</td>\n",
       "      <td>102.0</td>\n",
       "    </tr>\n",
       "    <tr>\n",
       "      <th>1</th>\n",
       "      <td>Dance (Our Own Party)</td>\n",
       "      <td>The Busker</td>\n",
       "      <td>0.695</td>\n",
       "      <td>0.778</td>\n",
       "      <td>5</td>\n",
       "      <td>-5.634</td>\n",
       "      <td>0</td>\n",
       "      <td>0.0407</td>\n",
       "      <td>0.02170</td>\n",
       "      <td>0.003590</td>\n",
       "      <td>...</td>\n",
       "      <td>NaN</td>\n",
       "      <td>NaN</td>\n",
       "      <td>NaN</td>\n",
       "      <td>NaN</td>\n",
       "      <td>NaN</td>\n",
       "      <td>NaN</td>\n",
       "      <td>15.0</td>\n",
       "      <td>3.0</td>\n",
       "      <td>NaN</td>\n",
       "      <td>3.0</td>\n",
       "    </tr>\n",
       "    <tr>\n",
       "      <th>2</th>\n",
       "      <td>Samo mi se spava</td>\n",
       "      <td>Luke Black</td>\n",
       "      <td>0.551</td>\n",
       "      <td>0.730</td>\n",
       "      <td>9</td>\n",
       "      <td>-8.288</td>\n",
       "      <td>1</td>\n",
       "      <td>0.0575</td>\n",
       "      <td>0.00839</td>\n",
       "      <td>0.003480</td>\n",
       "      <td>...</td>\n",
       "      <td>16.0</td>\n",
       "      <td>14.0</td>\n",
       "      <td>4.0</td>\n",
       "      <td>6.0</td>\n",
       "      <td>24.0</td>\n",
       "      <td>30.0</td>\n",
       "      <td>10.0</td>\n",
       "      <td>37.0</td>\n",
       "      <td>NaN</td>\n",
       "      <td>37.0</td>\n",
       "    </tr>\n",
       "    <tr>\n",
       "      <th>3</th>\n",
       "      <td>Aija</td>\n",
       "      <td>Sudden Lights</td>\n",
       "      <td>0.556</td>\n",
       "      <td>0.548</td>\n",
       "      <td>9</td>\n",
       "      <td>-7.513</td>\n",
       "      <td>0</td>\n",
       "      <td>0.0694</td>\n",
       "      <td>0.05230</td>\n",
       "      <td>0.000110</td>\n",
       "      <td>...</td>\n",
       "      <td>NaN</td>\n",
       "      <td>NaN</td>\n",
       "      <td>NaN</td>\n",
       "      <td>NaN</td>\n",
       "      <td>NaN</td>\n",
       "      <td>NaN</td>\n",
       "      <td>11.0</td>\n",
       "      <td>34.0</td>\n",
       "      <td>NaN</td>\n",
       "      <td>34.0</td>\n",
       "    </tr>\n",
       "    <tr>\n",
       "      <th>4</th>\n",
       "      <td>Ai coraï¿½ï¿½o</td>\n",
       "      <td>Sergio Assad, Thomas Ford, Mario Castelnuovo-T...</td>\n",
       "      <td>0.354</td>\n",
       "      <td>0.333</td>\n",
       "      <td>9</td>\n",
       "      <td>-17.127</td>\n",
       "      <td>1</td>\n",
       "      <td>0.0302</td>\n",
       "      <td>0.95600</td>\n",
       "      <td>0.873000</td>\n",
       "      <td>...</td>\n",
       "      <td>16.0</td>\n",
       "      <td>43.0</td>\n",
       "      <td>3.0</td>\n",
       "      <td>9.0</td>\n",
       "      <td>23.0</td>\n",
       "      <td>59.0</td>\n",
       "      <td>9.0</td>\n",
       "      <td>74.0</td>\n",
       "      <td>NaN</td>\n",
       "      <td>74.0</td>\n",
       "    </tr>\n",
       "    <tr>\n",
       "      <th>...</th>\n",
       "      <td>...</td>\n",
       "      <td>...</td>\n",
       "      <td>...</td>\n",
       "      <td>...</td>\n",
       "      <td>...</td>\n",
       "      <td>...</td>\n",
       "      <td>...</td>\n",
       "      <td>...</td>\n",
       "      <td>...</td>\n",
       "      <td>...</td>\n",
       "      <td>...</td>\n",
       "      <td>...</td>\n",
       "      <td>...</td>\n",
       "      <td>...</td>\n",
       "      <td>...</td>\n",
       "      <td>...</td>\n",
       "      <td>...</td>\n",
       "      <td>...</td>\n",
       "      <td>...</td>\n",
       "      <td>...</td>\n",
       "      <td>...</td>\n",
       "    </tr>\n",
       "    <tr>\n",
       "      <th>560</th>\n",
       "      <td>Et s'il fallait le faire</td>\n",
       "      <td>Patricia Kaas</td>\n",
       "      <td>0.259</td>\n",
       "      <td>0.581</td>\n",
       "      <td>9</td>\n",
       "      <td>-8.383</td>\n",
       "      <td>1</td>\n",
       "      <td>0.0848</td>\n",
       "      <td>0.55200</td>\n",
       "      <td>0.000004</td>\n",
       "      <td>...</td>\n",
       "      <td>54.0</td>\n",
       "      <td>164.0</td>\n",
       "      <td>NaN</td>\n",
       "      <td>NaN</td>\n",
       "      <td>8.0</td>\n",
       "      <td>218.0</td>\n",
       "      <td>NaN</td>\n",
       "      <td>NaN</td>\n",
       "      <td>NaN</td>\n",
       "      <td>NaN</td>\n",
       "    </tr>\n",
       "    <tr>\n",
       "      <th>561</th>\n",
       "      <td>Mamo</td>\n",
       "      <td>Mamonas Assassinas</td>\n",
       "      <td>0.746</td>\n",
       "      <td>0.665</td>\n",
       "      <td>9</td>\n",
       "      <td>-10.154</td>\n",
       "      <td>1</td>\n",
       "      <td>0.1330</td>\n",
       "      <td>0.03470</td>\n",
       "      <td>0.000000</td>\n",
       "      <td>...</td>\n",
       "      <td>118.0</td>\n",
       "      <td>67.0</td>\n",
       "      <td>NaN</td>\n",
       "      <td>NaN</td>\n",
       "      <td>11.0</td>\n",
       "      <td>185.0</td>\n",
       "      <td>NaN</td>\n",
       "      <td>NaN</td>\n",
       "      <td>NaN</td>\n",
       "      <td>NaN</td>\n",
       "    </tr>\n",
       "    <tr>\n",
       "      <th>562</th>\n",
       "      <td>Miss Kiss Kiss Bang</td>\n",
       "      <td>Alex Swings Oscar Sings!</td>\n",
       "      <td>0.624</td>\n",
       "      <td>0.889</td>\n",
       "      <td>10</td>\n",
       "      <td>-4.482</td>\n",
       "      <td>0</td>\n",
       "      <td>0.2120</td>\n",
       "      <td>0.10700</td>\n",
       "      <td>0.000000</td>\n",
       "      <td>...</td>\n",
       "      <td>18.0</td>\n",
       "      <td>73.0</td>\n",
       "      <td>NaN</td>\n",
       "      <td>NaN</td>\n",
       "      <td>20.0</td>\n",
       "      <td>91.0</td>\n",
       "      <td>NaN</td>\n",
       "      <td>NaN</td>\n",
       "      <td>NaN</td>\n",
       "      <td>NaN</td>\n",
       "    </tr>\n",
       "    <tr>\n",
       "      <th>563</th>\n",
       "      <td>It's My Time</td>\n",
       "      <td>Mansur Brown</td>\n",
       "      <td>0.414</td>\n",
       "      <td>0.548</td>\n",
       "      <td>7</td>\n",
       "      <td>-8.836</td>\n",
       "      <td>1</td>\n",
       "      <td>0.0655</td>\n",
       "      <td>0.03960</td>\n",
       "      <td>0.642000</td>\n",
       "      <td>...</td>\n",
       "      <td>105.0</td>\n",
       "      <td>223.0</td>\n",
       "      <td>NaN</td>\n",
       "      <td>NaN</td>\n",
       "      <td>5.0</td>\n",
       "      <td>328.0</td>\n",
       "      <td>NaN</td>\n",
       "      <td>NaN</td>\n",
       "      <td>NaN</td>\n",
       "      <td>NaN</td>\n",
       "    </tr>\n",
       "    <tr>\n",
       "      <th>564</th>\n",
       "      <td>La noche es para mi</td>\n",
       "      <td>Soraya</td>\n",
       "      <td>0.658</td>\n",
       "      <td>0.842</td>\n",
       "      <td>6</td>\n",
       "      <td>-4.604</td>\n",
       "      <td>0</td>\n",
       "      <td>0.0549</td>\n",
       "      <td>0.06040</td>\n",
       "      <td>0.000000</td>\n",
       "      <td>...</td>\n",
       "      <td>38.0</td>\n",
       "      <td>9.0</td>\n",
       "      <td>NaN</td>\n",
       "      <td>NaN</td>\n",
       "      <td>24.0</td>\n",
       "      <td>47.0</td>\n",
       "      <td>NaN</td>\n",
       "      <td>NaN</td>\n",
       "      <td>NaN</td>\n",
       "      <td>NaN</td>\n",
       "    </tr>\n",
       "  </tbody>\n",
       "</table>\n",
       "<p>565 rows × 35 columns</p>\n",
       "</div>"
      ],
      "text/plain": [
       "                    song_name  \\\n",
       "0              Queen of Kings   \n",
       "1       Dance (Our Own Party)   \n",
       "2            Samo mi se spava   \n",
       "3                        Aija   \n",
       "4              Ai coraï¿½ï¿½o   \n",
       "..                        ...   \n",
       "560  Et s'il fallait le faire   \n",
       "561                      Mamo   \n",
       "562       Miss Kiss Kiss Bang   \n",
       "563              It's My Time   \n",
       "564       La noche es para mi   \n",
       "\n",
       "                                           artist_name  danceability  energy  \\\n",
       "0                                           Alessandra         0.563   0.908   \n",
       "1                                           The Busker         0.695   0.778   \n",
       "2                                           Luke Black         0.551   0.730   \n",
       "3                                        Sudden Lights         0.556   0.548   \n",
       "4    Sergio Assad, Thomas Ford, Mario Castelnuovo-T...         0.354   0.333   \n",
       "..                                                 ...           ...     ...   \n",
       "560                                      Patricia Kaas         0.259   0.581   \n",
       "561                                 Mamonas Assassinas         0.746   0.665   \n",
       "562                           Alex Swings Oscar Sings!         0.624   0.889   \n",
       "563                                       Mansur Brown         0.414   0.548   \n",
       "564                                             Soraya         0.658   0.842   \n",
       "\n",
       "     key  loudness  mode  speechiness  acousticness  instrumentalness  ...  \\\n",
       "0      4    -4.250     0       0.0868       0.06960          0.000000  ...   \n",
       "1      5    -5.634     0       0.0407       0.02170          0.003590  ...   \n",
       "2      9    -8.288     1       0.0575       0.00839          0.003480  ...   \n",
       "3      9    -7.513     0       0.0694       0.05230          0.000110  ...   \n",
       "4      9   -17.127     1       0.0302       0.95600          0.873000  ...   \n",
       "..   ...       ...   ...          ...           ...               ...  ...   \n",
       "560    9    -8.383     1       0.0848       0.55200          0.000004  ...   \n",
       "561    9   -10.154     1       0.1330       0.03470          0.000000  ...   \n",
       "562   10    -4.482     0       0.2120       0.10700          0.000000  ...   \n",
       "563    7    -8.836     1       0.0655       0.03960          0.642000  ...   \n",
       "564    6    -4.604     0       0.0549       0.06040          0.000000  ...   \n",
       "\n",
       "     final_televote_points  final_jury_points  final_televote_votes  \\\n",
       "0                    216.0               52.0                  36.0   \n",
       "1                      NaN                NaN                   NaN   \n",
       "2                     16.0               14.0                   4.0   \n",
       "3                      NaN                NaN                   NaN   \n",
       "4                     16.0               43.0                   3.0   \n",
       "..                     ...                ...                   ...   \n",
       "560                   54.0              164.0                   NaN   \n",
       "561                  118.0               67.0                   NaN   \n",
       "562                   18.0               73.0                   NaN   \n",
       "563                  105.0              223.0                   NaN   \n",
       "564                   38.0                9.0                   NaN   \n",
       "\n",
       "     final_jury_votes final_place final_total_points semi_place  \\\n",
       "0                11.0         5.0              268.0        6.0   \n",
       "1                 NaN         NaN                NaN       15.0   \n",
       "2                 6.0        24.0               30.0       10.0   \n",
       "3                 NaN         NaN                NaN       11.0   \n",
       "4                 9.0        23.0               59.0        9.0   \n",
       "..                ...         ...                ...        ...   \n",
       "560               NaN         8.0              218.0        NaN   \n",
       "561               NaN        11.0              185.0        NaN   \n",
       "562               NaN        20.0               91.0        NaN   \n",
       "563               NaN         5.0              328.0        NaN   \n",
       "564               NaN        24.0               47.0        NaN   \n",
       "\n",
       "    semi_televote_points semi_jury_points semi_total_points  \n",
       "0                  102.0              NaN             102.0  \n",
       "1                    3.0              NaN               3.0  \n",
       "2                   37.0              NaN              37.0  \n",
       "3                   34.0              NaN              34.0  \n",
       "4                   74.0              NaN              74.0  \n",
       "..                   ...              ...               ...  \n",
       "560                  NaN              NaN               NaN  \n",
       "561                  NaN              NaN               NaN  \n",
       "562                  NaN              NaN               NaN  \n",
       "563                  NaN              NaN               NaN  \n",
       "564                  NaN              NaN               NaN  \n",
       "\n",
       "[565 rows x 35 columns]"
      ]
     },
     "execution_count": 157,
     "metadata": {},
     "output_type": "execute_result"
    }
   ],
   "source": [
    "df"
   ]
  },
  {
   "cell_type": "code",
   "execution_count": 158,
   "metadata": {},
   "outputs": [
    {
     "data": {
      "text/plain": [
       "Index(['song_name', 'artist_name', 'danceability', 'energy', 'key', 'loudness',\n",
       "       'mode', 'speechiness', 'acousticness', 'instrumentalness', 'liveness',\n",
       "       'valence', 'tempo', 'year', 'semi_final', 'semi_draw_position',\n",
       "       'final_draw_position', 'country', 'language', 'style', 'gender',\n",
       "       'main_singers', 'backing_dancers', 'backing_singers',\n",
       "       'backing_instruments', 'final_televote_points', 'final_jury_points',\n",
       "       'final_televote_votes', 'final_jury_votes', 'final_place',\n",
       "       'final_total_points', 'semi_place', 'semi_televote_points',\n",
       "       'semi_jury_points', 'semi_total_points'],\n",
       "      dtype='object')"
      ]
     },
     "execution_count": 158,
     "metadata": {},
     "output_type": "execute_result"
    }
   ],
   "source": [
    "df.columns"
   ]
  },
  {
   "cell_type": "markdown",
   "metadata": {},
   "source": [
    "### Creating \"eng_lan\" dummy"
   ]
  },
  {
   "cell_type": "code",
   "execution_count": 159,
   "metadata": {},
   "outputs": [],
   "source": [
    "df['eng_lan'] = df['language'].apply(lambda x: 1 if x == 'English' else 0)"
   ]
  },
  {
   "cell_type": "code",
   "execution_count": 160,
   "metadata": {},
   "outputs": [
    {
     "data": {
      "text/html": [
       "<div>\n",
       "<style scoped>\n",
       "    .dataframe tbody tr th:only-of-type {\n",
       "        vertical-align: middle;\n",
       "    }\n",
       "\n",
       "    .dataframe tbody tr th {\n",
       "        vertical-align: top;\n",
       "    }\n",
       "\n",
       "    .dataframe thead th {\n",
       "        text-align: right;\n",
       "    }\n",
       "</style>\n",
       "<table border=\"1\" class=\"dataframe\">\n",
       "  <thead>\n",
       "    <tr style=\"text-align: right;\">\n",
       "      <th></th>\n",
       "      <th>song_name</th>\n",
       "      <th>artist_name</th>\n",
       "      <th>danceability</th>\n",
       "      <th>energy</th>\n",
       "      <th>key</th>\n",
       "      <th>loudness</th>\n",
       "      <th>mode</th>\n",
       "      <th>speechiness</th>\n",
       "      <th>acousticness</th>\n",
       "      <th>instrumentalness</th>\n",
       "      <th>...</th>\n",
       "      <th>final_jury_points</th>\n",
       "      <th>final_televote_votes</th>\n",
       "      <th>final_jury_votes</th>\n",
       "      <th>final_place</th>\n",
       "      <th>final_total_points</th>\n",
       "      <th>semi_place</th>\n",
       "      <th>semi_televote_points</th>\n",
       "      <th>semi_jury_points</th>\n",
       "      <th>semi_total_points</th>\n",
       "      <th>eng_lan</th>\n",
       "    </tr>\n",
       "  </thead>\n",
       "  <tbody>\n",
       "    <tr>\n",
       "      <th>0</th>\n",
       "      <td>Queen of Kings</td>\n",
       "      <td>Alessandra</td>\n",
       "      <td>0.563</td>\n",
       "      <td>0.908</td>\n",
       "      <td>4</td>\n",
       "      <td>-4.250</td>\n",
       "      <td>0</td>\n",
       "      <td>0.0868</td>\n",
       "      <td>0.06960</td>\n",
       "      <td>0.000000</td>\n",
       "      <td>...</td>\n",
       "      <td>52.0</td>\n",
       "      <td>36.0</td>\n",
       "      <td>11.0</td>\n",
       "      <td>5.0</td>\n",
       "      <td>268.0</td>\n",
       "      <td>6.0</td>\n",
       "      <td>102.0</td>\n",
       "      <td>NaN</td>\n",
       "      <td>102.0</td>\n",
       "      <td>1</td>\n",
       "    </tr>\n",
       "    <tr>\n",
       "      <th>1</th>\n",
       "      <td>Dance (Our Own Party)</td>\n",
       "      <td>The Busker</td>\n",
       "      <td>0.695</td>\n",
       "      <td>0.778</td>\n",
       "      <td>5</td>\n",
       "      <td>-5.634</td>\n",
       "      <td>0</td>\n",
       "      <td>0.0407</td>\n",
       "      <td>0.02170</td>\n",
       "      <td>0.003590</td>\n",
       "      <td>...</td>\n",
       "      <td>NaN</td>\n",
       "      <td>NaN</td>\n",
       "      <td>NaN</td>\n",
       "      <td>NaN</td>\n",
       "      <td>NaN</td>\n",
       "      <td>15.0</td>\n",
       "      <td>3.0</td>\n",
       "      <td>NaN</td>\n",
       "      <td>3.0</td>\n",
       "      <td>1</td>\n",
       "    </tr>\n",
       "    <tr>\n",
       "      <th>2</th>\n",
       "      <td>Samo mi se spava</td>\n",
       "      <td>Luke Black</td>\n",
       "      <td>0.551</td>\n",
       "      <td>0.730</td>\n",
       "      <td>9</td>\n",
       "      <td>-8.288</td>\n",
       "      <td>1</td>\n",
       "      <td>0.0575</td>\n",
       "      <td>0.00839</td>\n",
       "      <td>0.003480</td>\n",
       "      <td>...</td>\n",
       "      <td>14.0</td>\n",
       "      <td>4.0</td>\n",
       "      <td>6.0</td>\n",
       "      <td>24.0</td>\n",
       "      <td>30.0</td>\n",
       "      <td>10.0</td>\n",
       "      <td>37.0</td>\n",
       "      <td>NaN</td>\n",
       "      <td>37.0</td>\n",
       "      <td>0</td>\n",
       "    </tr>\n",
       "    <tr>\n",
       "      <th>3</th>\n",
       "      <td>Aija</td>\n",
       "      <td>Sudden Lights</td>\n",
       "      <td>0.556</td>\n",
       "      <td>0.548</td>\n",
       "      <td>9</td>\n",
       "      <td>-7.513</td>\n",
       "      <td>0</td>\n",
       "      <td>0.0694</td>\n",
       "      <td>0.05230</td>\n",
       "      <td>0.000110</td>\n",
       "      <td>...</td>\n",
       "      <td>NaN</td>\n",
       "      <td>NaN</td>\n",
       "      <td>NaN</td>\n",
       "      <td>NaN</td>\n",
       "      <td>NaN</td>\n",
       "      <td>11.0</td>\n",
       "      <td>34.0</td>\n",
       "      <td>NaN</td>\n",
       "      <td>34.0</td>\n",
       "      <td>1</td>\n",
       "    </tr>\n",
       "    <tr>\n",
       "      <th>4</th>\n",
       "      <td>Ai coraï¿½ï¿½o</td>\n",
       "      <td>Sergio Assad, Thomas Ford, Mario Castelnuovo-T...</td>\n",
       "      <td>0.354</td>\n",
       "      <td>0.333</td>\n",
       "      <td>9</td>\n",
       "      <td>-17.127</td>\n",
       "      <td>1</td>\n",
       "      <td>0.0302</td>\n",
       "      <td>0.95600</td>\n",
       "      <td>0.873000</td>\n",
       "      <td>...</td>\n",
       "      <td>43.0</td>\n",
       "      <td>3.0</td>\n",
       "      <td>9.0</td>\n",
       "      <td>23.0</td>\n",
       "      <td>59.0</td>\n",
       "      <td>9.0</td>\n",
       "      <td>74.0</td>\n",
       "      <td>NaN</td>\n",
       "      <td>74.0</td>\n",
       "      <td>0</td>\n",
       "    </tr>\n",
       "    <tr>\n",
       "      <th>...</th>\n",
       "      <td>...</td>\n",
       "      <td>...</td>\n",
       "      <td>...</td>\n",
       "      <td>...</td>\n",
       "      <td>...</td>\n",
       "      <td>...</td>\n",
       "      <td>...</td>\n",
       "      <td>...</td>\n",
       "      <td>...</td>\n",
       "      <td>...</td>\n",
       "      <td>...</td>\n",
       "      <td>...</td>\n",
       "      <td>...</td>\n",
       "      <td>...</td>\n",
       "      <td>...</td>\n",
       "      <td>...</td>\n",
       "      <td>...</td>\n",
       "      <td>...</td>\n",
       "      <td>...</td>\n",
       "      <td>...</td>\n",
       "      <td>...</td>\n",
       "    </tr>\n",
       "    <tr>\n",
       "      <th>560</th>\n",
       "      <td>Et s'il fallait le faire</td>\n",
       "      <td>Patricia Kaas</td>\n",
       "      <td>0.259</td>\n",
       "      <td>0.581</td>\n",
       "      <td>9</td>\n",
       "      <td>-8.383</td>\n",
       "      <td>1</td>\n",
       "      <td>0.0848</td>\n",
       "      <td>0.55200</td>\n",
       "      <td>0.000004</td>\n",
       "      <td>...</td>\n",
       "      <td>164.0</td>\n",
       "      <td>NaN</td>\n",
       "      <td>NaN</td>\n",
       "      <td>8.0</td>\n",
       "      <td>218.0</td>\n",
       "      <td>NaN</td>\n",
       "      <td>NaN</td>\n",
       "      <td>NaN</td>\n",
       "      <td>NaN</td>\n",
       "      <td>0</td>\n",
       "    </tr>\n",
       "    <tr>\n",
       "      <th>561</th>\n",
       "      <td>Mamo</td>\n",
       "      <td>Mamonas Assassinas</td>\n",
       "      <td>0.746</td>\n",
       "      <td>0.665</td>\n",
       "      <td>9</td>\n",
       "      <td>-10.154</td>\n",
       "      <td>1</td>\n",
       "      <td>0.1330</td>\n",
       "      <td>0.03470</td>\n",
       "      <td>0.000000</td>\n",
       "      <td>...</td>\n",
       "      <td>67.0</td>\n",
       "      <td>NaN</td>\n",
       "      <td>NaN</td>\n",
       "      <td>11.0</td>\n",
       "      <td>185.0</td>\n",
       "      <td>NaN</td>\n",
       "      <td>NaN</td>\n",
       "      <td>NaN</td>\n",
       "      <td>NaN</td>\n",
       "      <td>0</td>\n",
       "    </tr>\n",
       "    <tr>\n",
       "      <th>562</th>\n",
       "      <td>Miss Kiss Kiss Bang</td>\n",
       "      <td>Alex Swings Oscar Sings!</td>\n",
       "      <td>0.624</td>\n",
       "      <td>0.889</td>\n",
       "      <td>10</td>\n",
       "      <td>-4.482</td>\n",
       "      <td>0</td>\n",
       "      <td>0.2120</td>\n",
       "      <td>0.10700</td>\n",
       "      <td>0.000000</td>\n",
       "      <td>...</td>\n",
       "      <td>73.0</td>\n",
       "      <td>NaN</td>\n",
       "      <td>NaN</td>\n",
       "      <td>20.0</td>\n",
       "      <td>91.0</td>\n",
       "      <td>NaN</td>\n",
       "      <td>NaN</td>\n",
       "      <td>NaN</td>\n",
       "      <td>NaN</td>\n",
       "      <td>1</td>\n",
       "    </tr>\n",
       "    <tr>\n",
       "      <th>563</th>\n",
       "      <td>It's My Time</td>\n",
       "      <td>Mansur Brown</td>\n",
       "      <td>0.414</td>\n",
       "      <td>0.548</td>\n",
       "      <td>7</td>\n",
       "      <td>-8.836</td>\n",
       "      <td>1</td>\n",
       "      <td>0.0655</td>\n",
       "      <td>0.03960</td>\n",
       "      <td>0.642000</td>\n",
       "      <td>...</td>\n",
       "      <td>223.0</td>\n",
       "      <td>NaN</td>\n",
       "      <td>NaN</td>\n",
       "      <td>5.0</td>\n",
       "      <td>328.0</td>\n",
       "      <td>NaN</td>\n",
       "      <td>NaN</td>\n",
       "      <td>NaN</td>\n",
       "      <td>NaN</td>\n",
       "      <td>1</td>\n",
       "    </tr>\n",
       "    <tr>\n",
       "      <th>564</th>\n",
       "      <td>La noche es para mi</td>\n",
       "      <td>Soraya</td>\n",
       "      <td>0.658</td>\n",
       "      <td>0.842</td>\n",
       "      <td>6</td>\n",
       "      <td>-4.604</td>\n",
       "      <td>0</td>\n",
       "      <td>0.0549</td>\n",
       "      <td>0.06040</td>\n",
       "      <td>0.000000</td>\n",
       "      <td>...</td>\n",
       "      <td>9.0</td>\n",
       "      <td>NaN</td>\n",
       "      <td>NaN</td>\n",
       "      <td>24.0</td>\n",
       "      <td>47.0</td>\n",
       "      <td>NaN</td>\n",
       "      <td>NaN</td>\n",
       "      <td>NaN</td>\n",
       "      <td>NaN</td>\n",
       "      <td>0</td>\n",
       "    </tr>\n",
       "  </tbody>\n",
       "</table>\n",
       "<p>565 rows × 36 columns</p>\n",
       "</div>"
      ],
      "text/plain": [
       "                    song_name  \\\n",
       "0              Queen of Kings   \n",
       "1       Dance (Our Own Party)   \n",
       "2            Samo mi se spava   \n",
       "3                        Aija   \n",
       "4              Ai coraï¿½ï¿½o   \n",
       "..                        ...   \n",
       "560  Et s'il fallait le faire   \n",
       "561                      Mamo   \n",
       "562       Miss Kiss Kiss Bang   \n",
       "563              It's My Time   \n",
       "564       La noche es para mi   \n",
       "\n",
       "                                           artist_name  danceability  energy  \\\n",
       "0                                           Alessandra         0.563   0.908   \n",
       "1                                           The Busker         0.695   0.778   \n",
       "2                                           Luke Black         0.551   0.730   \n",
       "3                                        Sudden Lights         0.556   0.548   \n",
       "4    Sergio Assad, Thomas Ford, Mario Castelnuovo-T...         0.354   0.333   \n",
       "..                                                 ...           ...     ...   \n",
       "560                                      Patricia Kaas         0.259   0.581   \n",
       "561                                 Mamonas Assassinas         0.746   0.665   \n",
       "562                           Alex Swings Oscar Sings!         0.624   0.889   \n",
       "563                                       Mansur Brown         0.414   0.548   \n",
       "564                                             Soraya         0.658   0.842   \n",
       "\n",
       "     key  loudness  mode  speechiness  acousticness  instrumentalness  ...  \\\n",
       "0      4    -4.250     0       0.0868       0.06960          0.000000  ...   \n",
       "1      5    -5.634     0       0.0407       0.02170          0.003590  ...   \n",
       "2      9    -8.288     1       0.0575       0.00839          0.003480  ...   \n",
       "3      9    -7.513     0       0.0694       0.05230          0.000110  ...   \n",
       "4      9   -17.127     1       0.0302       0.95600          0.873000  ...   \n",
       "..   ...       ...   ...          ...           ...               ...  ...   \n",
       "560    9    -8.383     1       0.0848       0.55200          0.000004  ...   \n",
       "561    9   -10.154     1       0.1330       0.03470          0.000000  ...   \n",
       "562   10    -4.482     0       0.2120       0.10700          0.000000  ...   \n",
       "563    7    -8.836     1       0.0655       0.03960          0.642000  ...   \n",
       "564    6    -4.604     0       0.0549       0.06040          0.000000  ...   \n",
       "\n",
       "     final_jury_points  final_televote_votes  final_jury_votes  final_place  \\\n",
       "0                 52.0                  36.0              11.0          5.0   \n",
       "1                  NaN                   NaN               NaN          NaN   \n",
       "2                 14.0                   4.0               6.0         24.0   \n",
       "3                  NaN                   NaN               NaN          NaN   \n",
       "4                 43.0                   3.0               9.0         23.0   \n",
       "..                 ...                   ...               ...          ...   \n",
       "560              164.0                   NaN               NaN          8.0   \n",
       "561               67.0                   NaN               NaN         11.0   \n",
       "562               73.0                   NaN               NaN         20.0   \n",
       "563              223.0                   NaN               NaN          5.0   \n",
       "564                9.0                   NaN               NaN         24.0   \n",
       "\n",
       "    final_total_points semi_place semi_televote_points semi_jury_points  \\\n",
       "0                268.0        6.0                102.0              NaN   \n",
       "1                  NaN       15.0                  3.0              NaN   \n",
       "2                 30.0       10.0                 37.0              NaN   \n",
       "3                  NaN       11.0                 34.0              NaN   \n",
       "4                 59.0        9.0                 74.0              NaN   \n",
       "..                 ...        ...                  ...              ...   \n",
       "560              218.0        NaN                  NaN              NaN   \n",
       "561              185.0        NaN                  NaN              NaN   \n",
       "562               91.0        NaN                  NaN              NaN   \n",
       "563              328.0        NaN                  NaN              NaN   \n",
       "564               47.0        NaN                  NaN              NaN   \n",
       "\n",
       "    semi_total_points eng_lan  \n",
       "0               102.0       1  \n",
       "1                 3.0       1  \n",
       "2                37.0       0  \n",
       "3                34.0       1  \n",
       "4                74.0       0  \n",
       "..                ...     ...  \n",
       "560               NaN       0  \n",
       "561               NaN       0  \n",
       "562               NaN       1  \n",
       "563               NaN       1  \n",
       "564               NaN       0  \n",
       "\n",
       "[565 rows x 36 columns]"
      ]
     },
     "execution_count": 160,
     "metadata": {},
     "output_type": "execute_result"
    }
   ],
   "source": [
    "df"
   ]
  },
  {
   "cell_type": "code",
   "execution_count": 161,
   "metadata": {},
   "outputs": [
    {
     "data": {
      "text/plain": [
       "language\n",
       "English                 383\n",
       "French                   11\n",
       "Portuguese               10\n",
       "Italian                  10\n",
       "Spanish                   9\n",
       "                       ... \n",
       "Italian[f]                1\n",
       "English,ï¿½Greek3         1\n",
       "English,ï¿½Bulgarian      1\n",
       "Serbian,ï¿½Latin          1\n",
       "Russian,ï¿½Ukrainian      1\n",
       "Name: count, Length: 76, dtype: int64"
      ]
     },
     "execution_count": 161,
     "metadata": {},
     "output_type": "execute_result"
    }
   ],
   "source": [
    "df['language'].value_counts()"
   ]
  },
  {
   "cell_type": "code",
   "execution_count": 162,
   "metadata": {},
   "outputs": [
    {
     "data": {
      "text/plain": [
       "eng_lan\n",
       "1    383\n",
       "0    182\n",
       "Name: count, dtype: int64"
      ]
     },
     "execution_count": 162,
     "metadata": {},
     "output_type": "execute_result"
    }
   ],
   "source": [
    "df['eng_lan'].value_counts()"
   ]
  },
  {
   "cell_type": "markdown",
   "metadata": {},
   "source": [
    "### Creating \"inc_eng_lan\" dummy"
   ]
  },
  {
   "cell_type": "code",
   "execution_count": 165,
   "metadata": {},
   "outputs": [],
   "source": [
    "df['inc_eng_lan'] = ((df['language'].str.contains('English')) & (df['eng_lan'] == 0)).astype(int)"
   ]
  },
  {
   "cell_type": "code",
   "execution_count": 167,
   "metadata": {},
   "outputs": [
    {
     "data": {
      "text/plain": [
       "inc_eng_lan\n",
       "0    506\n",
       "1     59\n",
       "Name: count, dtype: int64"
      ]
     },
     "execution_count": 167,
     "metadata": {},
     "output_type": "execute_result"
    }
   ],
   "source": [
    "df['inc_eng_lan'].value_counts()"
   ]
  },
  {
   "cell_type": "code",
   "execution_count": 172,
   "metadata": {},
   "outputs": [
    {
     "data": {
      "text/html": [
       "<div>\n",
       "<style scoped>\n",
       "    .dataframe tbody tr th:only-of-type {\n",
       "        vertical-align: middle;\n",
       "    }\n",
       "\n",
       "    .dataframe tbody tr th {\n",
       "        vertical-align: top;\n",
       "    }\n",
       "\n",
       "    .dataframe thead th {\n",
       "        text-align: right;\n",
       "    }\n",
       "</style>\n",
       "<table border=\"1\" class=\"dataframe\">\n",
       "  <thead>\n",
       "    <tr style=\"text-align: right;\">\n",
       "      <th></th>\n",
       "      <th>language</th>\n",
       "      <th>inc_eng_lan</th>\n",
       "    </tr>\n",
       "  </thead>\n",
       "  <tbody>\n",
       "    <tr>\n",
       "      <th>2</th>\n",
       "      <td>Serbian, English</td>\n",
       "      <td>1</td>\n",
       "    </tr>\n",
       "    <tr>\n",
       "      <th>12</th>\n",
       "      <td>English,ï¿½Ukrainian,ï¿½Czech,ï¿½Bulgarian</td>\n",
       "      <td>1</td>\n",
       "    </tr>\n",
       "    <tr>\n",
       "      <th>16</th>\n",
       "      <td>English,ï¿½Armenian</td>\n",
       "      <td>1</td>\n",
       "    </tr>\n",
       "    <tr>\n",
       "      <th>17</th>\n",
       "      <td>Romanian, English</td>\n",
       "      <td>1</td>\n",
       "    </tr>\n",
       "    <tr>\n",
       "      <th>34</th>\n",
       "      <td>English, Ukrainian</td>\n",
       "      <td>1</td>\n",
       "    </tr>\n",
       "    <tr>\n",
       "      <th>37</th>\n",
       "      <td>Albanian, English</td>\n",
       "      <td>1</td>\n",
       "    </tr>\n",
       "    <tr>\n",
       "      <th>45</th>\n",
       "      <td>Romanian, English</td>\n",
       "      <td>1</td>\n",
       "    </tr>\n",
       "    <tr>\n",
       "      <th>46</th>\n",
       "      <td>English,ï¿½Portuguese</td>\n",
       "      <td>1</td>\n",
       "    </tr>\n",
       "    <tr>\n",
       "      <th>47</th>\n",
       "      <td>English,ï¿½Croatian</td>\n",
       "      <td>1</td>\n",
       "    </tr>\n",
       "    <tr>\n",
       "      <th>60</th>\n",
       "      <td>Italian, English</td>\n",
       "      <td>1</td>\n",
       "    </tr>\n",
       "    <tr>\n",
       "      <th>62</th>\n",
       "      <td>English,ï¿½Greek</td>\n",
       "      <td>1</td>\n",
       "    </tr>\n",
       "    <tr>\n",
       "      <th>66</th>\n",
       "      <td>English,ï¿½Spanish</td>\n",
       "      <td>1</td>\n",
       "    </tr>\n",
       "    <tr>\n",
       "      <th>68</th>\n",
       "      <td>English, Italian</td>\n",
       "      <td>1</td>\n",
       "    </tr>\n",
       "    <tr>\n",
       "      <th>73</th>\n",
       "      <td>Spanish, English</td>\n",
       "      <td>1</td>\n",
       "    </tr>\n",
       "    <tr>\n",
       "      <th>79</th>\n",
       "      <td>Russian, English</td>\n",
       "      <td>1</td>\n",
       "    </tr>\n",
       "    <tr>\n",
       "      <th>86</th>\n",
       "      <td>English,ï¿½Croatian</td>\n",
       "      <td>1</td>\n",
       "    </tr>\n",
       "    <tr>\n",
       "      <th>110</th>\n",
       "      <td>English,ï¿½Sranan Tongo</td>\n",
       "      <td>1</td>\n",
       "    </tr>\n",
       "    <tr>\n",
       "      <th>119</th>\n",
       "      <td>Polish, English</td>\n",
       "      <td>1</td>\n",
       "    </tr>\n",
       "    <tr>\n",
       "      <th>139</th>\n",
       "      <td>English,ï¿½French</td>\n",
       "      <td>1</td>\n",
       "    </tr>\n",
       "    <tr>\n",
       "      <th>142</th>\n",
       "      <td>English,ï¿½Croatian</td>\n",
       "      <td>1</td>\n",
       "    </tr>\n",
       "    <tr>\n",
       "      <th>154</th>\n",
       "      <td>French, English</td>\n",
       "      <td>1</td>\n",
       "    </tr>\n",
       "    <tr>\n",
       "      <th>228</th>\n",
       "      <td>English,ï¿½Italian</td>\n",
       "      <td>1</td>\n",
       "    </tr>\n",
       "    <tr>\n",
       "      <th>237</th>\n",
       "      <td>Spanish, English</td>\n",
       "      <td>1</td>\n",
       "    </tr>\n",
       "    <tr>\n",
       "      <th>241</th>\n",
       "      <td>French, English</td>\n",
       "      <td>1</td>\n",
       "    </tr>\n",
       "    <tr>\n",
       "      <th>243</th>\n",
       "      <td>English,ï¿½Greek3</td>\n",
       "      <td>1</td>\n",
       "    </tr>\n",
       "    <tr>\n",
       "      <th>271</th>\n",
       "      <td>English,ï¿½Bulgarian</td>\n",
       "      <td>1</td>\n",
       "    </tr>\n",
       "    <tr>\n",
       "      <th>273</th>\n",
       "      <td>English,ï¿½Crimean Tatar</td>\n",
       "      <td>1</td>\n",
       "    </tr>\n",
       "    <tr>\n",
       "      <th>278</th>\n",
       "      <td>Italian, English</td>\n",
       "      <td>1</td>\n",
       "    </tr>\n",
       "    <tr>\n",
       "      <th>281</th>\n",
       "      <td>French, English</td>\n",
       "      <td>1</td>\n",
       "    </tr>\n",
       "    <tr>\n",
       "      <th>298</th>\n",
       "      <td>Romanian, English</td>\n",
       "      <td>1</td>\n",
       "    </tr>\n",
       "    <tr>\n",
       "      <th>340</th>\n",
       "      <td>English,ï¿½Hebrew</td>\n",
       "      <td>1</td>\n",
       "    </tr>\n",
       "    <tr>\n",
       "      <th>343</th>\n",
       "      <td>Polish, English</td>\n",
       "      <td>1</td>\n",
       "    </tr>\n",
       "    <tr>\n",
       "      <th>352</th>\n",
       "      <td>English,ï¿½Slovene</td>\n",
       "      <td>1</td>\n",
       "    </tr>\n",
       "    <tr>\n",
       "      <th>357</th>\n",
       "      <td>English,ï¿½Spanish</td>\n",
       "      <td>1</td>\n",
       "    </tr>\n",
       "    <tr>\n",
       "      <th>404</th>\n",
       "      <td>Spanish, English</td>\n",
       "      <td>1</td>\n",
       "    </tr>\n",
       "    <tr>\n",
       "      <th>408</th>\n",
       "      <td>English,ï¿½Hebrew</td>\n",
       "      <td>1</td>\n",
       "    </tr>\n",
       "    <tr>\n",
       "      <th>412</th>\n",
       "      <td>Udmurt, English</td>\n",
       "      <td>1</td>\n",
       "    </tr>\n",
       "    <tr>\n",
       "      <th>415</th>\n",
       "      <td>English6</td>\n",
       "      <td>1</td>\n",
       "    </tr>\n",
       "    <tr>\n",
       "      <th>428</th>\n",
       "      <td>English,ï¿½Georgian</td>\n",
       "      <td>1</td>\n",
       "    </tr>\n",
       "    <tr>\n",
       "      <th>436</th>\n",
       "      <td>French, English</td>\n",
       "      <td>1</td>\n",
       "    </tr>\n",
       "    <tr>\n",
       "      <th>437</th>\n",
       "      <td>English,ï¿½Italian</td>\n",
       "      <td>1</td>\n",
       "    </tr>\n",
       "    <tr>\n",
       "      <th>442</th>\n",
       "      <td>English,ï¿½Swahili</td>\n",
       "      <td>1</td>\n",
       "    </tr>\n",
       "    <tr>\n",
       "      <th>447</th>\n",
       "      <td>English, Russian</td>\n",
       "      <td>1</td>\n",
       "    </tr>\n",
       "    <tr>\n",
       "      <th>455</th>\n",
       "      <td>English,ï¿½Hungarian</td>\n",
       "      <td>1</td>\n",
       "    </tr>\n",
       "    <tr>\n",
       "      <th>459</th>\n",
       "      <td>English,ï¿½Greek</td>\n",
       "      <td>1</td>\n",
       "    </tr>\n",
       "    <tr>\n",
       "      <th>470</th>\n",
       "      <td>Macedonian, English</td>\n",
       "      <td>1</td>\n",
       "    </tr>\n",
       "    <tr>\n",
       "      <th>471</th>\n",
       "      <td>Hebrew, English</td>\n",
       "      <td>1</td>\n",
       "    </tr>\n",
       "    <tr>\n",
       "      <th>480</th>\n",
       "      <td>Italian, English</td>\n",
       "      <td>1</td>\n",
       "    </tr>\n",
       "    <tr>\n",
       "      <th>492</th>\n",
       "      <td>English,ï¿½Polish</td>\n",
       "      <td>1</td>\n",
       "    </tr>\n",
       "    <tr>\n",
       "      <th>513</th>\n",
       "      <td>Bulgarian, English</td>\n",
       "      <td>1</td>\n",
       "    </tr>\n",
       "    <tr>\n",
       "      <th>524</th>\n",
       "      <td>English,ï¿½Romani</td>\n",
       "      <td>1</td>\n",
       "    </tr>\n",
       "    <tr>\n",
       "      <th>527</th>\n",
       "      <td>French, English</td>\n",
       "      <td>1</td>\n",
       "    </tr>\n",
       "    <tr>\n",
       "      <th>528</th>\n",
       "      <td>English,ï¿½Armenian</td>\n",
       "      <td>1</td>\n",
       "    </tr>\n",
       "    <tr>\n",
       "      <th>529</th>\n",
       "      <td>Catalan, English</td>\n",
       "      <td>1</td>\n",
       "    </tr>\n",
       "    <tr>\n",
       "      <th>532</th>\n",
       "      <td>English,ï¿½Hebrew,ï¿½Arabic</td>\n",
       "      <td>1</td>\n",
       "    </tr>\n",
       "    <tr>\n",
       "      <th>550</th>\n",
       "      <td>English,ï¿½Slovene</td>\n",
       "      <td>1</td>\n",
       "    </tr>\n",
       "    <tr>\n",
       "      <th>554</th>\n",
       "      <td>English, Russian</td>\n",
       "      <td>1</td>\n",
       "    </tr>\n",
       "    <tr>\n",
       "      <th>555</th>\n",
       "      <td>Romanian, English</td>\n",
       "      <td>1</td>\n",
       "    </tr>\n",
       "    <tr>\n",
       "      <th>564</th>\n",
       "      <td>Spanish, English</td>\n",
       "      <td>1</td>\n",
       "    </tr>\n",
       "  </tbody>\n",
       "</table>\n",
       "</div>"
      ],
      "text/plain": [
       "                                       language  inc_eng_lan\n",
       "2                              Serbian, English            1\n",
       "12   English,ï¿½Ukrainian,ï¿½Czech,ï¿½Bulgarian            1\n",
       "16                          English,ï¿½Armenian            1\n",
       "17                            Romanian, English            1\n",
       "34                           English, Ukrainian            1\n",
       "37                            Albanian, English            1\n",
       "45                            Romanian, English            1\n",
       "46                        English,ï¿½Portuguese            1\n",
       "47                          English,ï¿½Croatian            1\n",
       "60                             Italian, English            1\n",
       "62                             English,ï¿½Greek            1\n",
       "66                           English,ï¿½Spanish            1\n",
       "68                             English, Italian            1\n",
       "73                             Spanish, English            1\n",
       "79                             Russian, English            1\n",
       "86                          English,ï¿½Croatian            1\n",
       "110                     English,ï¿½Sranan Tongo            1\n",
       "119                             Polish, English            1\n",
       "139                           English,ï¿½French            1\n",
       "142                         English,ï¿½Croatian            1\n",
       "154                             French, English            1\n",
       "228                          English,ï¿½Italian            1\n",
       "237                            Spanish, English            1\n",
       "241                             French, English            1\n",
       "243                           English,ï¿½Greek3            1\n",
       "271                        English,ï¿½Bulgarian            1\n",
       "273                    English,ï¿½Crimean Tatar            1\n",
       "278                            Italian, English            1\n",
       "281                             French, English            1\n",
       "298                           Romanian, English            1\n",
       "340                           English,ï¿½Hebrew            1\n",
       "343                             Polish, English            1\n",
       "352                          English,ï¿½Slovene            1\n",
       "357                          English,ï¿½Spanish            1\n",
       "404                            Spanish, English            1\n",
       "408                           English,ï¿½Hebrew            1\n",
       "412                             Udmurt, English            1\n",
       "415                                    English6            1\n",
       "428                         English,ï¿½Georgian            1\n",
       "436                             French, English            1\n",
       "437                          English,ï¿½Italian            1\n",
       "442                          English,ï¿½Swahili            1\n",
       "447                            English, Russian            1\n",
       "455                        English,ï¿½Hungarian            1\n",
       "459                            English,ï¿½Greek            1\n",
       "470                         Macedonian, English            1\n",
       "471                             Hebrew, English            1\n",
       "480                            Italian, English            1\n",
       "492                           English,ï¿½Polish            1\n",
       "513                          Bulgarian, English            1\n",
       "524                           English,ï¿½Romani            1\n",
       "527                             French, English            1\n",
       "528                         English,ï¿½Armenian            1\n",
       "529                            Catalan, English            1\n",
       "532                 English,ï¿½Hebrew,ï¿½Arabic            1\n",
       "550                          English,ï¿½Slovene            1\n",
       "554                            English, Russian            1\n",
       "555                           Romanian, English            1\n",
       "564                            Spanish, English            1"
      ]
     },
     "execution_count": 172,
     "metadata": {},
     "output_type": "execute_result"
    }
   ],
   "source": [
    "df_inc_eng_lan = df[[\"language\", \"inc_eng_lan\"]]\n",
    "df_inc_eng_lan = df_inc_eng_lan[df_inc_eng_lan['inc_eng_lan'] == 1]\n",
    "df_inc_eng_lan"
   ]
  },
  {
   "cell_type": "markdown",
   "metadata": {},
   "source": [
    "### Creating \"NO\", \"SE\", \"AZR\", \"GR\", \"SRB\" dummies"
   ]
  },
  {
   "cell_type": "markdown",
   "metadata": {},
   "source": [
    " - NO = Norway\n",
    " - SE = Sweden\n",
    " - AZR = Azerbaijan \n",
    " - GR = Greece\n",
    " - SRB - Serbia"
   ]
  },
  {
   "cell_type": "code",
   "execution_count": 173,
   "metadata": {},
   "outputs": [],
   "source": [
    "df['NO'] = df['country'].apply(lambda x: 1 if x == 'Norway' else 0)\n",
    "df['SE'] = df['country'].apply(lambda x: 1 if x == 'Sweden' else 0)\n",
    "df['AZR'] = df['country'].apply(lambda x: 1 if x == 'Azerbaijan' else 0)\n",
    "df['GR'] = df['country'].apply(lambda x: 1 if x == 'Greece' else 0)\n",
    "df['SRB'] = df['country'].apply(lambda x: 1 if x == 'Serbia' else 0)\n"
   ]
  },
  {
   "cell_type": "code",
   "execution_count": 179,
   "metadata": {},
   "outputs": [
    {
     "data": {
      "text/plain": [
       "SRB\n",
       "0    552\n",
       "1     13\n",
       "Name: count, dtype: int64"
      ]
     },
     "execution_count": 179,
     "metadata": {},
     "output_type": "execute_result"
    }
   ],
   "source": [
    "df['SRB'].value_counts()"
   ]
  },
  {
   "cell_type": "markdown",
   "metadata": {},
   "source": [
    "### Save df to csv file"
   ]
  },
  {
   "cell_type": "code",
   "execution_count": 180,
   "metadata": {},
   "outputs": [],
   "source": [
    "df.to_csv('preprocessed_data.csv', index=False)"
   ]
  }
 ],
 "metadata": {
  "kernelspec": {
   "display_name": "Python 3",
   "language": "python",
   "name": "python3"
  },
  "language_info": {
   "codemirror_mode": {
    "name": "ipython",
    "version": 3
   },
   "file_extension": ".py",
   "mimetype": "text/x-python",
   "name": "python",
   "nbconvert_exporter": "python",
   "pygments_lexer": "ipython3",
   "version": "3.12.1"
  }
 },
 "nbformat": 4,
 "nbformat_minor": 2
}
